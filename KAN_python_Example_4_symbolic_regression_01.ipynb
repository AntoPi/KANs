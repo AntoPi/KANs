{
  "nbformat": 4,
  "nbformat_minor": 0,
  "metadata": {
    "colab": {
      "provenance": []
    },
    "kernelspec": {
      "name": "python3",
      "display_name": "Python 3"
    },
    "language_info": {
      "name": "python"
    }
  },
  "cells": [
    {
      "cell_type": "markdown",
      "source": [
        "# https://github.com/KindXiaoming/pykan"
      ],
      "metadata": {
        "id": "DZYqjRikVPKw"
      }
    },
    {
      "cell_type": "code",
      "execution_count": 1,
      "metadata": {
        "colab": {
          "base_uri": "https://localhost:8080/"
        },
        "id": "u01UlEY2U916",
        "outputId": "dbd4f4cb-e1b7-4185-dd2f-ea9334210780"
      },
      "outputs": [
        {
          "output_type": "stream",
          "name": "stdout",
          "text": [
            "Collecting git+https://github.com/KindXiaoming/pykan.git\n",
            "  Cloning https://github.com/KindXiaoming/pykan.git to /tmp/pip-req-build-vnbhp64u\n",
            "  Running command git clone --filter=blob:none --quiet https://github.com/KindXiaoming/pykan.git /tmp/pip-req-build-vnbhp64u\n",
            "  Resolved https://github.com/KindXiaoming/pykan.git to commit 27b4640aeee010dabb34264e6c7d7272bcf130f8\n",
            "  Preparing metadata (setup.py) ... \u001b[?25l\u001b[?25hdone\n",
            "Building wheels for collected packages: pykan\n",
            "  Building wheel for pykan (setup.py) ... \u001b[?25l\u001b[?25hdone\n",
            "  Created wheel for pykan: filename=pykan-0.0.5-py3-none-any.whl size=34114 sha256=d0c1ac5e4287610cb4b16e6f203db94d1702acc7c5bd9b9b566be746699a4946\n",
            "  Stored in directory: /tmp/pip-ephem-wheel-cache-8d1wo27t/wheels/47/ca/5a/98124e020f3119f51c17f78738c621c140b7aa803b0feda76e\n",
            "Successfully built pykan\n",
            "Installing collected packages: pykan\n",
            "Successfully installed pykan-0.0.5\n"
          ]
        }
      ],
      "source": [
        "pip install git+https://github.com/KindXiaoming/pykan.git"
      ]
    },
    {
      "cell_type": "markdown",
      "source": [
        "Example 4: Symbolic Regression"
      ],
      "metadata": {
        "id": "r9pd7JlIVd26"
      }
    },
    {
      "cell_type": "code",
      "source": [
        "from kan import *\n",
        "# create a KAN: 2D inputs, 1D output, and 5 hidden neurons. cubic spline (k=3), 5 grid intervals (grid=5).\n",
        "model = KAN(width=[2,5,1], grid=5, k=3, seed=0)\n",
        "\n",
        "# create dataset f(x,y) = exp(sin(pi*x)+y^2)\n",
        "f = lambda x: torch.exp(torch.sin(torch.pi*x[:,[0]]) + x[:,[1]]**2)\n",
        "dataset = create_dataset(f, n_var=2)\n",
        "dataset['train_input'].shape, dataset['train_label'].shape"
      ],
      "metadata": {
        "colab": {
          "base_uri": "https://localhost:8080/"
        },
        "id": "wXMCNHlKVB14",
        "outputId": "fa162ad3-68cd-4053-8d4e-7de609cca0e7"
      },
      "execution_count": 2,
      "outputs": [
        {
          "output_type": "execute_result",
          "data": {
            "text/plain": [
              "(torch.Size([1000, 2]), torch.Size([1000, 1]))"
            ]
          },
          "metadata": {},
          "execution_count": 2
        }
      ]
    },
    {
      "cell_type": "code",
      "source": [
        "# train the model\n",
        "model.train(dataset, opt=\"LBFGS\", steps=20, lamb=0.01, lamb_entropy=10.);"
      ],
      "metadata": {
        "colab": {
          "base_uri": "https://localhost:8080/"
        },
        "id": "Q_aHilb1VhaM",
        "outputId": "d64c267d-b43c-4fb1-d5a5-e1f11e7b8594"
      },
      "execution_count": 3,
      "outputs": [
        {
          "output_type": "stream",
          "name": "stderr",
          "text": [
            "train loss: 1.31e-01 | test loss: 1.33e-01 | reg: 2.68e+01 : 100%|██| 20/20 [00:10<00:00,  1.86it/s]\n"
          ]
        }
      ]
    },
    {
      "cell_type": "code",
      "source": [
        "model = model.prune()\n",
        "model(dataset['train_input'])\n",
        "model.plot()"
      ],
      "metadata": {
        "colab": {
          "base_uri": "https://localhost:8080/",
          "height": 345
        },
        "id": "l_S4b7ymVlTl",
        "outputId": "a30fe05e-088d-4a09-b07e-83cfc539ca63"
      },
      "execution_count": 4,
      "outputs": [
        {
          "output_type": "display_data",
          "data": {
            "text/plain": [
              "<Figure size 500x400 with 13 Axes>"
            ],
            "image/png": "[encoded data removed]"
          },
          "metadata": {}
        }
      ]
    },
    {
      "cell_type": "code",
      "source": [
        "# sin appears at the top of the suggestion list, which is good!\n",
        "model.suggest_symbolic(0,0,0)"
      ],
      "metadata": {
        "colab": {
          "base_uri": "https://localhost:8080/"
        },
        "id": "rmDXD5PKVoGw",
        "outputId": "791296ff-0487-4d59-f66c-82c58bfff517"
      },
      "execution_count": 5,
      "outputs": [
        {
          "output_type": "stream",
          "name": "stdout",
          "text": [
            "function , r2\n",
            "gaussian , 0.9922442436218262\n",
            "sin , 0.9921897649765015\n",
            "x^2 , 0.9917889833450317\n",
            "cosh , 0.9915947914123535\n",
            "x^3 , 0.9907029271125793\n"
          ]
        },
        {
          "output_type": "execute_result",
          "data": {
            "text/plain": [
              "('gaussian',\n",
              " (<function kan.utils.<lambda>(x)>, <function kan.utils.<lambda>(x)>),\n",
              " 0.9922442436218262)"
            ]
          },
          "metadata": {},
          "execution_count": 5
        }
      ]
    },
    {
      "cell_type": "code",
      "source": [
        "# x^2 appears in the suggestion list (usually not top 1), but it is fine!\n",
        "model.suggest_symbolic(0,1,0)"
      ],
      "metadata": {
        "colab": {
          "base_uri": "https://localhost:8080/"
        },
        "id": "sHUZNBFDVqey",
        "outputId": "181f7182-3ed8-425c-99c9-e98b60fdd527"
      },
      "execution_count": 6,
      "outputs": [
        {
          "output_type": "stream",
          "name": "stdout",
          "text": [
            "function , r2\n",
            "x^4 , 0.9267642498016357\n",
            "cosh , 0.9162518978118896\n",
            "x^2 , 0.8414775133132935\n",
            "gaussian , 0.839168906211853\n",
            "sin , 0.8374858498573303\n"
          ]
        },
        {
          "output_type": "execute_result",
          "data": {
            "text/plain": [
              "('x^4',\n",
              " (<function kan.utils.<lambda>(x)>, <function kan.utils.<lambda>(x)>),\n",
              " 0.9267642498016357)"
            ]
          },
          "metadata": {},
          "execution_count": 6
        }
      ]
    },
    {
      "cell_type": "code",
      "source": [
        "# exp not even appears in the list (but note how high correlation of all these functions), which is sad!\n",
        "model.suggest_symbolic(1,0,0)"
      ],
      "metadata": {
        "colab": {
          "base_uri": "https://localhost:8080/"
        },
        "id": "-Bm_UO8dV5lo",
        "outputId": "903c75a3-6eff-4993-c42e-08114f844cfe"
      },
      "execution_count": 7,
      "outputs": [
        {
          "output_type": "stream",
          "name": "stdout",
          "text": [
            "function , r2\n",
            "sin , 0.8409020304679871\n",
            "gaussian , 0.7846505045890808\n",
            "tanh , 0.5559893250465393\n",
            "sgn , 0.5475132465362549\n",
            "arctan , 0.4854588210582733\n"
          ]
        },
        {
          "output_type": "execute_result",
          "data": {
            "text/plain": [
              "('sin',\n",
              " (<function kan.utils.<lambda>(x)>, <function kan.utils.<lambda>(x)>),\n",
              " 0.8409020304679871)"
            ]
          },
          "metadata": {},
          "execution_count": 7
        }
      ]
    },
    {
      "cell_type": "code",
      "source": [
        "# let's try suggesting more by changing topk. Exp should appear in the list\n",
        "# But it's very unclear why should we prefer exp over others. All of them have quite high correlation with the learned spline.\n",
        "model.suggest_symbolic(1,0,0,topk=15)"
      ],
      "metadata": {
        "colab": {
          "base_uri": "https://localhost:8080/"
        },
        "id": "gUH8Fz90V86f",
        "outputId": "f998599c-97bb-4d0a-ec00-bc6ad6bf02e5"
      },
      "execution_count": 8,
      "outputs": [
        {
          "output_type": "stream",
          "name": "stdout",
          "text": [
            "function , r2\n",
            "sin , 0.8409020304679871\n",
            "gaussian , 0.7846505045890808\n",
            "tanh , 0.5559893250465393\n",
            "sgn , 0.5475132465362549\n",
            "arctan , 0.4854588210582733\n",
            "sigmoid , 0.48509931564331055\n",
            "abs , 0.3367708921432495\n",
            "x^2 , 0.20711982250213623\n",
            "cosh , 0.20664410293102264\n",
            "x^3 , 0.2059362530708313\n",
            "x^4 , 0.20575197041034698\n",
            "exp , 0.20549941062927246\n",
            "log , 0.20511242747306824\n",
            "1/x , 0.20510898530483246\n",
            "1/sqrt(x) , 0.2050294131040573\n"
          ]
        },
        {
          "output_type": "execute_result",
          "data": {
            "text/plain": [
              "('sin',\n",
              " (<function kan.utils.<lambda>(x)>, <function kan.utils.<lambda>(x)>),\n",
              " 0.8409020304679871)"
            ]
          },
          "metadata": {},
          "execution_count": 8
        }
      ]
    },
    {
      "cell_type": "code",
      "source": [
        "model.train(dataset, opt=\"LBFGS\", steps=20);\n",
        "model.plot()"
      ],
      "metadata": {
        "colab": {
          "base_uri": "https://localhost:8080/",
          "height": 362
        },
        "id": "j26B252XV_yW",
        "outputId": "49348dce-f9b0-4c08-c0a6-a445cd2c7f7f"
      },
      "execution_count": 9,
      "outputs": [
        {
          "output_type": "stream",
          "name": "stderr",
          "text": [
            "train loss: 5.01e-03 | test loss: 5.25e-03 | reg: 1.14e+01 : 100%|██| 20/20 [00:07<00:00,  2.85it/s]\n"
          ]
        },
        {
          "output_type": "display_data",
          "data": {
            "text/plain": [
              "<Figure size 500x400 with 13 Axes>"
            ],
            "image/png": "[encoded data removed]"
          },
          "metadata": {}
        }
      ]
    },
    {
      "cell_type": "code",
      "source": [
        "# sin appears at the top of the suggestion list, which is good!\n",
        "model.suggest_symbolic(0,0,0)"
      ],
      "metadata": {
        "colab": {
          "base_uri": "https://localhost:8080/"
        },
        "id": "pX9BQACZWCA-",
        "outputId": "12fdf412-14cb-4fee-a59d-b7a8dd0b9a47"
      },
      "execution_count": 10,
      "outputs": [
        {
          "output_type": "stream",
          "name": "stdout",
          "text": [
            "function , r2\n",
            "gaussian , 0.9934483766555786\n",
            "sin , 0.9934346079826355\n",
            "x^2 , 0.9932972192764282\n",
            "cosh , 0.9932767152786255\n",
            "x^3 , 0.9920275211334229\n"
          ]
        },
        {
          "output_type": "execute_result",
          "data": {
            "text/plain": [
              "('gaussian',\n",
              " (<function kan.utils.<lambda>(x)>, <function kan.utils.<lambda>(x)>),\n",
              " 0.9934483766555786)"
            ]
          },
          "metadata": {},
          "execution_count": 10
        }
      ]
    },
    {
      "cell_type": "code",
      "source": [
        "# x^2 appears at the top of the suggestion list, which is good!\n",
        "# But note how competitive cosh and gaussian are. They are also locally quadratic.\n",
        "model.suggest_symbolic(0,1,0)"
      ],
      "metadata": {
        "colab": {
          "base_uri": "https://localhost:8080/"
        },
        "id": "GO6e3oVEWE34",
        "outputId": "be57cfce-5cd0-491c-f518-2ff0310cbf5d"
      },
      "execution_count": 11,
      "outputs": [
        {
          "output_type": "stream",
          "name": "stdout",
          "text": [
            "function , r2\n",
            "cosh , 0.9937620759010315\n",
            "x^2 , 0.9932071566581726\n",
            "gaussian , 0.9926877617835999\n",
            "sin , 0.9906584024429321\n",
            "x^4 , 0.9277693033218384\n"
          ]
        },
        {
          "output_type": "execute_result",
          "data": {
            "text/plain": [
              "('cosh',\n",
              " (<function kan.utils.<lambda>(x)>, <function kan.utils.<lambda>(x)>),\n",
              " 0.9937620759010315)"
            ]
          },
          "metadata": {},
          "execution_count": 11
        }
      ]
    },
    {
      "cell_type": "code",
      "source": [
        "# exp appears at the top of the suggestion list, which is good!\n",
        "model.suggest_symbolic(1,0,0)"
      ],
      "metadata": {
        "colab": {
          "base_uri": "https://localhost:8080/"
        },
        "id": "eY9PogfOWIad",
        "outputId": "618ca494-35b8-4b89-b29e-71e7e1b48ba6"
      },
      "execution_count": 12,
      "outputs": [
        {
          "output_type": "stream",
          "name": "stdout",
          "text": [
            "function , r2\n",
            "tan , 0.9180852770805359\n",
            "arctanh , 0.8920008540153503\n",
            "x^3 , 0.8502706289291382\n",
            "log , 0.8485129475593567\n",
            "arcsin , 0.843649685382843\n"
          ]
        },
        {
          "output_type": "execute_result",
          "data": {
            "text/plain": [
              "('tan',\n",
              " (<function kan.utils.<lambda>(x)>, <function kan.utils.<lambda>(x)>),\n",
              " 0.9180852770805359)"
            ]
          },
          "metadata": {},
          "execution_count": 12
        }
      ]
    },
    {
      "cell_type": "code",
      "source": [
        "# now let's replace every activation function with its top 1 symbolic suggestion. This is implmented in auto_symbolic()\n",
        "model.auto_symbolic()\n",
        "\n",
        "# if the user wants to constrain the symbolic space, they can pass in their symbolic libarary\n",
        "# lib = ['sin', 'x^2', 'exp']\n",
        "# model.auto_symbolic(lib=lib)"
      ],
      "metadata": {
        "colab": {
          "base_uri": "https://localhost:8080/"
        },
        "id": "caFHSIyFWLHX",
        "outputId": "44c82919-2686-46fa-f793-64c7046b8094"
      },
      "execution_count": 13,
      "outputs": [
        {
          "output_type": "stream",
          "name": "stdout",
          "text": [
            "fixing (0,0,0) with gaussian, r2=0.9934483766555786\n",
            "fixing (0,0,1) with sin, r2=0.7392392754554749\n",
            "fixing (0,0,2) with sin, r2=0.9995235204696655\n",
            "fixing (0,0,3) with sin, r2=0.9970577359199524\n",
            "fixing (0,1,0) with cosh, r2=0.9937620759010315\n",
            "fixing (0,1,1) with tan, r2=0.9700495004653931\n",
            "fixing (0,1,2) with x^2, r2=0.9999983906745911\n",
            "fixing (0,1,3) with arctan, r2=0.9460312128067017\n",
            "fixing (1,0,0) with tan, r2=0.9180852770805359\n",
            "fixing (1,1,0) with x^2, r2=0.6825717687606812\n",
            "fixing (1,2,0) with exp, r2=0.9999974966049194\n",
            "fixing (1,3,0) with x^3, r2=0.9720304608345032\n"
          ]
        }
      ]
    },
    {
      "cell_type": "code",
      "source": [
        "model.train(dataset, opt=\"LBFGS\", steps=20);\n",
        "model.plot()"
      ],
      "metadata": {
        "colab": {
          "base_uri": "https://localhost:8080/",
          "height": 362
        },
        "id": "SbEbj1FZWPQm",
        "outputId": "b388768d-198b-444c-cce5-caeb9e0ff9cf"
      },
      "execution_count": 14,
      "outputs": [
        {
          "output_type": "stream",
          "name": "stderr",
          "text": [
            "train loss: 2.25e-02 | test loss: 2.05e-02 | reg: 1.69e+01 : 100%|██| 20/20 [00:01<00:00, 12.77it/s]\n"
          ]
        },
        {
          "output_type": "display_data",
          "data": {
            "text/plain": [
              "<Figure size 500x400 with 13 Axes>"
            ],
            "image/png": "[encoded data removed]"
          },
          "metadata": {}
        }
      ]
    },
    {
      "cell_type": "code",
      "source": [
        "# obtaining symbolic formula\n",
        "formula, variables = model.symbolic_formula()\n",
        "formula[0]"
      ],
      "metadata": {
        "colab": {
          "base_uri": "https://localhost:8080/",
          "height": 71
        },
        "id": "vunliFe2WRwK",
        "outputId": "5427d301-4a33-4238-f038-80646d80a8bc"
      },
      "execution_count": 15,
      "outputs": [
        {
          "output_type": "execute_result",
          "data": {
            "text/plain": [
              "-0.e-2*(sin(2.7*x_1 - 3.19) + 0.02*atan(1.65*x_2 + 0.54) - 0.02)**3 + 1.05*exp(0.98*x_2**2 + 0.98*sin(3.1*x_1)) - 0.04*tan(0.39*cosh(1.1*x_2 + 0.01) + 17.8 - 13.02*exp(-0.05*(-x_1 - 0.94)**2)) - 0.07"
            ],
            "text/latex": "$\\displaystyle - 0.01 \\left(\\sin{\\left(2.7 x_{1} - 3.19 \\right)} + 0.02 \\operatorname{atan}{\\left(1.65 x_{2} + 0.54 \\right)} - 0.02\\right)^{3} + 1.05 e^{0.98 x_{2}^{2} + 0.98 \\sin{\\left(3.1 x_{1} \\right)}} - 0.04 \\tan{\\left(0.39 \\cosh{\\left(1.1 x_{2} + 0.01 \\right)} + 17.8 - 13.02 e^{- 0.05 \\left(- x_{1} - 0.94\\right)^{2}} \\right)} - 0.07$"
          },
          "metadata": {},
          "execution_count": 15
        }
      ]
    },
    {
      "cell_type": "code",
      "source": [
        "# if you want to rename your variables, you could use the \"var\" argument\n",
        "formula, variables = model.symbolic_formula(var=['\\\\alpha','y'])\n",
        "formula[0]"
      ],
      "metadata": {
        "colab": {
          "base_uri": "https://localhost:8080/",
          "height": 71
        },
        "id": "Nk5QH0ggWT6v",
        "outputId": "56264262-498f-430f-c480-26b41b4f9f39"
      },
      "execution_count": 16,
      "outputs": [
        {
          "output_type": "execute_result",
          "data": {
            "text/plain": [
              "-0.e-2*(sin(2.7*\\alpha - 3.19) + 0.02*atan(1.65*y + 0.54) - 0.02)**3 + 1.05*exp(0.98*y**2 + 0.98*sin(3.1*\\alpha)) - 0.04*tan(0.39*cosh(1.1*y + 0.01) + 17.8 - 13.02*exp(-0.05*(-\\alpha - 0.94)**2)) - 0.07"
            ],
            "text/latex": "$\\displaystyle - 0.01 \\left(\\sin{\\left(2.7 \\alpha - 3.19 \\right)} + 0.02 \\operatorname{atan}{\\left(1.65 y + 0.54 \\right)} - 0.02\\right)^{3} + 1.05 e^{0.98 y^{2} + 0.98 \\sin{\\left(3.1 \\alpha \\right)}} - 0.04 \\tan{\\left(0.39 \\cosh{\\left(1.1 y + 0.01 \\right)} + 17.8 - 13.02 e^{- 0.05 \\left(- \\alpha - 0.94\\right)^{2}} \\right)} - 0.07$"
          },
          "metadata": {},
          "execution_count": 16
        }
      ]
    },
    {
      "cell_type": "code",
      "source": [
        "# one can even postprocess the formula (e.g., taking derivatives)\n",
        "from sympy import *\n",
        "diff(formula[0], variables[0])"
      ],
      "metadata": {
        "colab": {
          "base_uri": "https://localhost:8080/",
          "height": 71
        },
        "id": "ihfFt61HWWdQ",
        "outputId": "5ee9a44f-abc1-42c9-cce3-152858235ab0"
      },
      "execution_count": 17,
      "outputs": [
        {
          "output_type": "execute_result",
          "data": {
            "text/plain": [
              "0.5213*(-0.1*\\alpha - 0.094)*(tan(0.39*cosh(1.1*y + 0.01) + 17.8 - 13.02*exp(-0.05*(-\\alpha - 0.94)**2))**2 + 1)*exp(-0.05*(-\\alpha - 0.94)**2) - 0.0791*(sin(2.7*\\alpha - 3.19) + 0.02*atan(1.65*y + 0.54) - 0.02)**2*cos(2.7*\\alpha - 3.19) + 3.19*exp(0.98*y**2 + 0.98*sin(3.1*\\alpha))*cos(3.1*\\alpha)"
            ],
            "text/latex": "$\\displaystyle 0.5213 \\left(- 0.1 \\alpha - 0.094\\right) \\left(\\tan^{2}{\\left(0.39 \\cosh{\\left(1.1 y + 0.01 \\right)} + 17.8 - 13.02 e^{- 0.05 \\left(- \\alpha - 0.94\\right)^{2}} \\right)} + 1\\right) e^{- 0.05 \\left(- \\alpha - 0.94\\right)^{2}} - 0.0791 \\left(\\sin{\\left(2.7 \\alpha - 3.19 \\right)} + 0.02 \\operatorname{atan}{\\left(1.65 y + 0.54 \\right)} - 0.02\\right)^{2} \\cos{\\left(2.7 \\alpha - 3.19 \\right)} + 3.19 e^{0.98 y^{2} + 0.98 \\sin{\\left(3.1 \\alpha \\right)}} \\cos{\\left(3.1 \\alpha \\right)}$"
          },
          "metadata": {},
          "execution_count": 17
        }
      ]
    },
    {
      "cell_type": "code",
      "source": [
        "# let's replace (0,1,0) with cosh\n",
        "model.fix_symbolic(0,1,0,'cosh')"
      ],
      "metadata": {
        "colab": {
          "base_uri": "https://localhost:8080/"
        },
        "id": "4M-RwRRnWZhq",
        "outputId": "163361c5-6724-4cb5-9cab-95c185e46b71"
      },
      "execution_count": 18,
      "outputs": [
        {
          "output_type": "stream",
          "name": "stdout",
          "text": [
            "r2 is 0.9999986290931702\n"
          ]
        },
        {
          "output_type": "execute_result",
          "data": {
            "text/plain": [
              "tensor(1.0000)"
            ]
          },
          "metadata": {},
          "execution_count": 18
        }
      ]
    },
    {
      "cell_type": "code",
      "source": [
        "# this loss is stuck at around 1e-3 RMSE, which is good, but not machine precision.\n",
        "model.train(dataset, opt=\"LBFGS\", steps=20);\n",
        "model.plot()"
      ],
      "metadata": {
        "colab": {
          "base_uri": "https://localhost:8080/",
          "height": 362
        },
        "id": "oQY6lHCwWdyc",
        "outputId": "8d30fd7e-02d0-4502-d63e-43ca55af7b28"
      },
      "execution_count": 19,
      "outputs": [
        {
          "output_type": "stream",
          "name": "stderr",
          "text": [
            "train loss: 2.25e-02 | test loss: 2.05e-02 | reg: 1.69e+01 : 100%|██| 20/20 [00:01<00:00, 19.94it/s]\n"
          ]
        },
        {
          "output_type": "display_data",
          "data": {
            "text/plain": [
              "<Figure size 500x400 with 13 Axes>"
            ],
            "image/png": "[encoded data removed]"
          },
          "metadata": {}
        }
      ]
    },
    {
      "cell_type": "markdown",
      "source": [],
      "metadata": {
        "id": "krl4iWFGWkt2"
      }
    },
    {
      "cell_type": "code",
      "source": [
        "def toy(bound=1., noise=0., fun=lambda x: torch.sin(torch.pi*x)):\n",
        "\n",
        "    num_pts = 101\n",
        "    x = torch.linspace(-bound,bound,steps=num_pts)\n",
        "    x = x[:,None]\n",
        "    y = fun(x) + torch.normal(0,1,size=(num_pts,)) * noise\n",
        "    dataset = {}\n",
        "    dataset['train_input'] = dataset['test_input'] = x\n",
        "    dataset['train_label'] = dataset['test_label'] = y\n",
        "    model = KAN(width=[1,1], grid=5, k=3, seed=0, grid_range=(-bound,bound))\n",
        "    model.train(dataset, opt=\"LBFGS\", steps=20)\n",
        "    model.suggest_symbolic(0,0,0)\n",
        "    model.plot()"
      ],
      "metadata": {
        "id": "W0EI9wNxWfuU"
      },
      "execution_count": 20,
      "outputs": []
    },
    {
      "cell_type": "code",
      "source": [
        "# when the function is whole range \"bound=1.\"\" (captures a whole period of sine) and has zero noise \"noise=0.\"\n",
        "# it is quite clear the function is clear\n",
        "toy()"
      ],
      "metadata": {
        "colab": {
          "base_uri": "https://localhost:8080/",
          "height": 312
        },
        "id": "P6rj7-QeWlCO",
        "outputId": "55628cf3-dec6-4a5c-e7fe-4b70fdd42809"
      },
      "execution_count": 21,
      "outputs": [
        {
          "output_type": "stream",
          "name": "stderr",
          "text": [
            "train loss: 2.79e-03 | test loss: 2.79e-03 | reg: 3.12e-01 : 100%|██| 20/20 [00:01<00:00, 18.43it/s]\n"
          ]
        },
        {
          "output_type": "stream",
          "name": "stdout",
          "text": [
            "function , r2\n",
            "sin , 0.9999845623970032\n",
            "gaussian , 0.9184407591819763\n",
            "tanh , 0.863538384437561\n",
            "sigmoid , 0.86013263463974\n",
            "arctan , 0.845004141330719\n"
          ]
        },
        {
          "output_type": "display_data",
          "data": {
            "text/plain": [
              "<Figure size 500x200 with 2 Axes>"
            ],
            "image/png": "[encoded data removed]"
          },
          "metadata": {}
        }
      ]
    },
    {
      "cell_type": "code",
      "source": [
        "# even with large noise, sine can be revealed, yeah!\n",
        "toy(noise=1.)"
      ],
      "metadata": {
        "colab": {
          "base_uri": "https://localhost:8080/",
          "height": 312
        },
        "id": "ax1ag8BCWoYP",
        "outputId": "9306ac14-5507-40cf-f0be-c94981476d33"
      },
      "execution_count": 22,
      "outputs": [
        {
          "output_type": "stream",
          "name": "stderr",
          "text": [
            "train loss: 9.22e-01 | test loss: 9.22e-01 | reg: 3.12e-01 : 100%|██| 20/20 [00:00<00:00, 28.59it/s]\n"
          ]
        },
        {
          "output_type": "stream",
          "name": "stdout",
          "text": [
            "function , r2\n",
            "sin , 0.9999845623970032\n",
            "gaussian , 0.9184413552284241\n",
            "tanh , 0.8635390996932983\n",
            "sigmoid , 0.8601328134536743\n",
            "arctan , 0.845004677772522\n"
          ]
        },
        {
          "output_type": "display_data",
          "data": {
            "text/plain": [
              "<Figure size 500x200 with 2 Axes>"
            ],
            "image/png": "[encoded data removed]"
          },
          "metadata": {}
        }
      ]
    },
    {
      "cell_type": "code",
      "source": [
        "# but when bound is small and there is noise, it starts to screw up (at least becomes less clear why we should prefer sine)\n",
        "toy(bound = 0.1, noise=0.1)"
      ],
      "metadata": {
        "colab": {
          "base_uri": "https://localhost:8080/",
          "height": 312
        },
        "id": "RoVMo4alWrgw",
        "outputId": "be2191c8-6152-4ba2-d290-58b571c5592d"
      },
      "execution_count": 23,
      "outputs": [
        {
          "output_type": "stream",
          "name": "stderr",
          "text": [
            "train loss: 9.22e-02 | test loss: 9.22e-02 | reg: 7.15e-01 : 100%|██| 20/20 [00:00<00:00, 36.54it/s]\n"
          ]
        },
        {
          "output_type": "stream",
          "name": "stdout",
          "text": [
            "function , r2\n",
            "sin , 0.9999921321868896\n",
            "arctan , 0.9999851584434509\n",
            "tanh , 0.9999848008155823\n",
            "cosh , 0.9999812841415405\n",
            "x^4 , 0.999981164932251\n"
          ]
        },
        {
          "output_type": "display_data",
          "data": {
            "text/plain": [
              "<Figure size 500x200 with 2 Axes>"
            ],
            "image/png": "[encoded data removed]"
          },
          "metadata": {}
        }
      ]
    },
    {
      "cell_type": "code",
      "source": [
        "def mix(a, b, bound=1):\n",
        "    num_pts = 101\n",
        "    x = torch.linspace(-bound,bound,steps=num_pts)\n",
        "    x = x[:,None]\n",
        "    y = a * torch.sin(x) + b * x**2 + (1-a-b) * torch.exp(x)\n",
        "    dataset = {}\n",
        "    dataset['train_input'] = dataset['test_input'] = x\n",
        "    dataset['train_label'] = dataset['test_label'] = y\n",
        "    model = KAN(width=[1,1], grid=10, k=3, seed=0, grid_range=(-bound,bound))\n",
        "    model.train(dataset, opt=\"LBFGS\", steps=20)\n",
        "    return model.suggest_symbolic(0,0,0)[0]\n",
        ""
      ],
      "metadata": {
        "id": "ApfXUvDGWttC"
      },
      "execution_count": 24,
      "outputs": []
    },
    {
      "cell_type": "code",
      "source": [
        "mix(a=0.2, b=0.0)"
      ],
      "metadata": {
        "colab": {
          "base_uri": "https://localhost:8080/",
          "height": 157
        },
        "id": "Tfc4bujZWv73",
        "outputId": "6066a7fc-6312-4954-bcd0-66e091aeea03"
      },
      "execution_count": 25,
      "outputs": [
        {
          "output_type": "stream",
          "name": "stderr",
          "text": [
            "train loss: 2.42e-06 | test loss: 2.42e-06 | reg: 2.64e-01 : 100%|██| 20/20 [00:00<00:00, 22.27it/s]\n"
          ]
        },
        {
          "output_type": "stream",
          "name": "stdout",
          "text": [
            "function , r2\n",
            "cosh , 0.9999977946281433\n",
            "exp , 0.9999954700469971\n",
            "sigmoid , 0.9999608993530273\n",
            "tanh , 0.9999525547027588\n",
            "1/x^4 , 0.9999521374702454\n"
          ]
        },
        {
          "output_type": "execute_result",
          "data": {
            "text/plain": [
              "'cosh'"
            ],
            "application/vnd.google.colaboratory.intrinsic+json": {
              "type": "string"
            }
          },
          "metadata": {},
          "execution_count": 25
        }
      ]
    },
    {
      "cell_type": "code",
      "source": [
        "# let's do a phase diagram, which looks quite \"fractal\"\n",
        "num = 11\n",
        "a_arr = np.linspace(0,1,num=num)\n",
        "b_arr = np.linspace(0,1,num=num)\n",
        "sf_mat = np.empty((num,num), dtype='U8')\n",
        "\n",
        "for i in range(num):\n",
        "    for j in range(num):\n",
        "        a = a_arr[i]; b = b_arr[j]\n",
        "        sf_mat[i,j] = mix(a, b)"
      ],
      "metadata": {
        "colab": {
          "base_uri": "https://localhost:8080/",
          "height": 1000
        },
        "id": "0ZHqOfzvWx4y",
        "outputId": "5cad6272-e733-4ad8-89e7-f7cc353156a5"
      },
      "execution_count": 26,
      "outputs": [
        {
          "output_type": "stream",
          "name": "stderr",
          "text": [
            "train loss: 2.78e-06 | test loss: 2.78e-06 | reg: 2.72e-01 : 100%|██| 20/20 [00:00<00:00, 20.26it/s]\n"
          ]
        },
        {
          "output_type": "stream",
          "name": "stdout",
          "text": [
            "function , r2\n",
            "cosh , 1.0000004768371582\n",
            "exp , 1.0000003576278687\n",
            "tanh , 0.9999733567237854\n",
            "sigmoid , 0.9999500513076782\n",
            "1/x^4 , 0.9999372959136963\n"
          ]
        },
        {
          "output_type": "stream",
          "name": "stderr",
          "text": [
            "train loss: 2.53e-06 | test loss: 2.53e-06 | reg: 2.45e-01 : 100%|██| 20/20 [00:00<00:00, 21.43it/s]\n"
          ]
        },
        {
          "output_type": "stream",
          "name": "stdout",
          "text": [
            "function , r2\n",
            "cosh , 0.9999992847442627\n",
            "x^4 , 0.9999915957450867\n",
            "gaussian , 0.9999678730964661\n",
            "tanh , 0.9999523162841797\n",
            "sigmoid , 0.9999488592147827\n"
          ]
        },
        {
          "output_type": "stream",
          "name": "stderr",
          "text": [
            "train loss: 2.30e-06 | test loss: 2.30e-06 | reg: 2.18e-01 : 100%|██| 20/20 [00:00<00:00, 21.40it/s]\n"
          ]
        },
        {
          "output_type": "stream",
          "name": "stdout",
          "text": [
            "function , r2\n",
            "cosh , 0.9999950528144836\n",
            "x^3 , 0.9999169707298279\n",
            "gaussian , 0.9997471570968628\n",
            "x^4 , 0.9996080994606018\n",
            "tanh , 0.9995839595794678\n"
          ]
        },
        {
          "output_type": "stream",
          "name": "stderr",
          "text": [
            "train loss: 2.05e-06 | test loss: 2.05e-06 | reg: 1.94e-01 : 100%|██| 20/20 [00:00<00:00, 23.99it/s]\n"
          ]
        },
        {
          "output_type": "stream",
          "name": "stdout",
          "text": [
            "function , r2\n",
            "cosh , 0.9999858736991882\n",
            "x^3 , 0.9988142251968384\n",
            "gaussian , 0.9985231161117554\n",
            "x^2 , 0.9984781742095947\n",
            "sin , 0.9981951713562012\n"
          ]
        },
        {
          "output_type": "stream",
          "name": "stderr",
          "text": [
            "train loss: 1.81e-06 | test loss: 1.81e-06 | reg: 1.71e-01 : 100%|██| 20/20 [00:01<00:00, 14.87it/s]\n"
          ]
        },
        {
          "output_type": "stream",
          "name": "stdout",
          "text": [
            "function , r2\n",
            "cosh , 0.9999662637710571\n",
            "x^2 , 0.9986101984977722\n",
            "sin , 0.9982842803001404\n",
            "x^3 , 0.9936586618423462\n",
            "gaussian , 0.9936466813087463\n"
          ]
        },
        {
          "output_type": "stream",
          "name": "stderr",
          "text": [
            "train loss: 1.56e-06 | test loss: 1.56e-06 | reg: 1.51e-01 : 100%|██| 20/20 [00:00<00:00, 23.55it/s]\n"
          ]
        },
        {
          "output_type": "stream",
          "name": "stdout",
          "text": [
            "function , r2\n",
            "cosh , 0.9999420046806335\n",
            "x^2 , 0.9987950921058655\n",
            "sin , 0.9984332323074341\n",
            "gaussian , 0.9949685335159302\n",
            "tanh , 0.9764367938041687\n"
          ]
        },
        {
          "output_type": "stream",
          "name": "stderr",
          "text": [
            "train loss: 1.31e-06 | test loss: 1.31e-06 | reg: 1.37e-01 : 100%|██| 20/20 [00:00<00:00, 22.39it/s]\n"
          ]
        },
        {
          "output_type": "stream",
          "name": "stdout",
          "text": [
            "function , r2\n",
            "cosh , 0.9999043941497803\n",
            "x^2 , 0.9990440607070923\n",
            "sin , 0.9986634850502014\n",
            "gaussian , 0.9958811402320862\n",
            "tanh , 0.9380273818969727\n"
          ]
        },
        {
          "output_type": "stream",
          "name": "stderr",
          "text": [
            "train loss: 1.08e-06 | test loss: 1.08e-06 | reg: 1.29e-01 : 100%|██| 20/20 [00:00<00:00, 22.74it/s]\n"
          ]
        },
        {
          "output_type": "stream",
          "name": "stdout",
          "text": [
            "function , r2\n",
            "cosh , 0.9998659491539001\n",
            "x^2 , 0.999350905418396\n",
            "sin , 0.9989812970161438\n",
            "gaussian , 0.9916260242462158\n",
            "x^4 , 0.9172568321228027\n"
          ]
        },
        {
          "output_type": "stream",
          "name": "stderr",
          "text": [
            "train loss: 8.39e-07 | test loss: 8.39e-07 | reg: 1.27e-01 : 100%|██| 20/20 [00:01<00:00, 19.44it/s]\n"
          ]
        },
        {
          "output_type": "stream",
          "name": "stdout",
          "text": [
            "function , r2\n",
            "x^2 , 0.9996705055236816\n",
            "sin , 0.9993890523910522\n",
            "cosh , 0.9985609650611877\n",
            "gaussian , 0.9707186818122864\n",
            "abs , 0.9254010915756226\n"
          ]
        },
        {
          "output_type": "stream",
          "name": "stderr",
          "text": [
            "train loss: 6.03e-07 | test loss: 6.03e-07 | reg: 1.30e-01 : 100%|██| 20/20 [00:00<00:00, 24.64it/s]\n"
          ]
        },
        {
          "output_type": "stream",
          "name": "stdout",
          "text": [
            "function , r2\n",
            "x^2 , 0.9999136924743652\n",
            "sin , 0.9994937777519226\n",
            "gaussian , 0.9994853734970093\n",
            "cosh , 0.9879138469696045\n",
            "abs , 0.9339753985404968\n"
          ]
        },
        {
          "output_type": "stream",
          "name": "stderr",
          "text": [
            "train loss: 3.80e-07 | test loss: 3.80e-07 | reg: 1.38e-01 : 100%|██| 20/20 [00:01<00:00, 19.33it/s]\n"
          ]
        },
        {
          "output_type": "stream",
          "name": "stdout",
          "text": [
            "function , r2\n",
            "x^2 , 1.0000003576278687\n",
            "cosh , 0.9999101758003235\n",
            "gaussian , 0.9997107982635498\n",
            "sin , 0.9989290833473206\n",
            "abs , 0.9374391436576843\n"
          ]
        },
        {
          "output_type": "stream",
          "name": "stderr",
          "text": [
            "train loss: 2.59e-06 | test loss: 2.59e-06 | reg: 2.68e-01 : 100%|██| 20/20 [00:00<00:00, 20.94it/s]\n"
          ]
        },
        {
          "output_type": "stream",
          "name": "stdout",
          "text": [
            "function , r2\n",
            "exp , 0.9999995231628418\n",
            "arctan , 0.999980092048645\n",
            "cosh , 0.9999772310256958\n",
            "tanh , 0.9999635219573975\n",
            "sigmoid , 0.9999544620513916\n"
          ]
        },
        {
          "output_type": "stream",
          "name": "stderr",
          "text": [
            "train loss: 2.35e-06 | test loss: 2.35e-06 | reg: 2.40e-01 : 100%|██| 20/20 [00:01<00:00, 16.37it/s]\n"
          ]
        },
        {
          "output_type": "stream",
          "name": "stdout",
          "text": [
            "function , r2\n",
            "cosh , 0.9999939203262329\n",
            "x^4 , 0.9999867081642151\n",
            "gaussian , 0.9999642372131348\n",
            "sigmoid , 0.9999452233314514\n",
            "x^3 , 0.999944269657135\n"
          ]
        },
        {
          "output_type": "stream",
          "name": "stderr",
          "text": [
            "train loss: 2.10e-06 | test loss: 2.10e-06 | reg: 2.14e-01 : 100%|██| 20/20 [00:00<00:00, 22.66it/s]\n"
          ]
        },
        {
          "output_type": "stream",
          "name": "stdout",
          "text": [
            "function , r2\n",
            "cosh , 0.9999949932098389\n",
            "x^3 , 0.999884843826294\n",
            "gaussian , 0.9997602701187134\n",
            "tanh , 0.9996166229248047\n",
            "sigmoid , 0.9996151924133301\n"
          ]
        },
        {
          "output_type": "stream",
          "name": "stderr",
          "text": [
            "train loss: 1.86e-06 | test loss: 1.86e-06 | reg: 1.89e-01 : 100%|██| 20/20 [00:00<00:00, 22.17it/s]\n"
          ]
        },
        {
          "output_type": "stream",
          "name": "stdout",
          "text": [
            "function , r2\n",
            "cosh , 0.9999828338623047\n",
            "x^2 , 0.9991238713264465\n",
            "sin , 0.9988862872123718\n",
            "x^3 , 0.9987775087356567\n",
            "gaussian , 0.9986570477485657\n"
          ]
        },
        {
          "output_type": "stream",
          "name": "stderr",
          "text": [
            "train loss: 1.61e-06 | test loss: 1.61e-06 | reg: 1.66e-01 : 100%|██| 20/20 [00:00<00:00, 23.70it/s]\n"
          ]
        },
        {
          "output_type": "stream",
          "name": "stdout",
          "text": [
            "function , r2\n",
            "cosh , 0.9999908804893494\n",
            "x^2 , 0.999285876750946\n",
            "sin , 0.9988725781440735\n",
            "gaussian , 0.9985802173614502\n",
            "x^3 , 0.9939917325973511\n"
          ]
        },
        {
          "output_type": "stream",
          "name": "stderr",
          "text": [
            "train loss: 1.38e-06 | test loss: 1.38e-06 | reg: 1.45e-01 : 100%|██| 20/20 [00:00<00:00, 23.79it/s]\n"
          ]
        },
        {
          "output_type": "stream",
          "name": "stdout",
          "text": [
            "function , r2\n",
            "cosh , 0.9999797940254211\n",
            "x^2 , 0.9994809627532959\n",
            "sin , 0.9991910457611084\n",
            "gaussian , 0.9964681267738342\n",
            "tanh , 0.9772538542747498\n"
          ]
        },
        {
          "output_type": "stream",
          "name": "stderr",
          "text": [
            "train loss: 1.13e-06 | test loss: 1.13e-06 | reg: 1.29e-01 : 100%|██| 20/20 [00:00<00:00, 20.88it/s]\n"
          ]
        },
        {
          "output_type": "stream",
          "name": "stdout",
          "text": [
            "function , r2\n",
            "cosh , 0.9999741315841675\n",
            "x^2 , 0.9996978044509888\n",
            "sin , 0.9994118809700012\n",
            "gaussian , 0.9973543882369995\n",
            "tanh , 0.9376919269561768\n"
          ]
        },
        {
          "output_type": "stream",
          "name": "stderr",
          "text": [
            "train loss: 8.89e-07 | test loss: 8.89e-07 | reg: 1.22e-01 : 100%|██| 20/20 [00:00<00:00, 22.07it/s]\n"
          ]
        },
        {
          "output_type": "stream",
          "name": "stdout",
          "text": [
            "function , r2\n",
            "x^2 , 0.9998961687088013\n",
            "cosh , 0.9998723864555359\n",
            "sin , 0.9996592402458191\n",
            "gaussian , 0.9939866662025452\n",
            "abs , 0.9232653379440308\n"
          ]
        },
        {
          "output_type": "stream",
          "name": "stderr",
          "text": [
            "train loss: 6.54e-07 | test loss: 6.54e-07 | reg: 1.20e-01 : 100%|██| 20/20 [00:01<00:00, 19.11it/s]\n"
          ]
        },
        {
          "output_type": "stream",
          "name": "stdout",
          "text": [
            "function , r2\n",
            "x^2 , 0.9999977350234985\n",
            "sin , 0.9998342394828796\n",
            "cosh , 0.9962063431739807\n",
            "gaussian , 0.9754127264022827\n",
            "abs , 0.9311625957489014\n"
          ]
        },
        {
          "output_type": "stream",
          "name": "stderr",
          "text": [
            "train loss: 4.21e-07 | test loss: 4.21e-07 | reg: 1.24e-01 : 100%|██| 20/20 [00:01<00:00, 12.81it/s]\n"
          ]
        },
        {
          "output_type": "stream",
          "name": "stdout",
          "text": [
            "function , r2\n",
            "x^2 , 0.999923050403595\n",
            "sin , 0.9998639225959778\n",
            "cosh , 0.9997754096984863\n",
            "gaussian , 0.99968022108078\n",
            "abs , 0.9372402429580688\n"
          ]
        },
        {
          "output_type": "stream",
          "name": "stderr",
          "text": [
            "train loss: 2.26e-07 | test loss: 2.26e-07 | reg: 1.33e-01 : 100%|██| 20/20 [00:00<00:00, 22.30it/s]\n"
          ]
        },
        {
          "output_type": "stream",
          "name": "stdout",
          "text": [
            "function , r2\n",
            "cosh , 0.9995568990707397\n",
            "gaussian , 0.9993467926979065\n",
            "sin , 0.9985871911048889\n",
            "x^2 , 0.9984340667724609\n",
            "abs , 0.9362896680831909\n"
          ]
        },
        {
          "output_type": "stream",
          "name": "stderr",
          "text": [
            "train loss: 2.41e-06 | test loss: 2.41e-06 | reg: 2.64e-01 : 100%|██| 20/20 [00:00<00:00, 24.18it/s]\n"
          ]
        },
        {
          "output_type": "stream",
          "name": "stdout",
          "text": [
            "function , r2\n",
            "cosh , 0.9999977946281433\n",
            "exp , 0.9999955296516418\n",
            "sigmoid , 0.9999608993530273\n",
            "tanh , 0.9999525547027588\n",
            "1/x^4 , 0.9999521374702454\n"
          ]
        },
        {
          "output_type": "stream",
          "name": "stderr",
          "text": [
            "train loss: 2.17e-06 | test loss: 2.17e-06 | reg: 2.36e-01 : 100%|██| 20/20 [00:00<00:00, 22.22it/s]\n"
          ]
        },
        {
          "output_type": "stream",
          "name": "stdout",
          "text": [
            "function , r2\n",
            "cosh , 0.9999990463256836\n",
            "x^3 , 0.9999776482582092\n",
            "x^4 , 0.9999701380729675\n",
            "gaussian , 0.9999597668647766\n",
            "sigmoid , 0.9999393224716187\n"
          ]
        },
        {
          "output_type": "stream",
          "name": "stderr",
          "text": [
            "train loss: 1.93e-06 | test loss: 1.93e-06 | reg: 2.09e-01 : 100%|██| 20/20 [00:00<00:00, 22.65it/s]\n"
          ]
        },
        {
          "output_type": "stream",
          "name": "stdout",
          "text": [
            "function , r2\n",
            "cosh , 0.9999996423721313\n",
            "x^3 , 0.9998224377632141\n",
            "gaussian , 0.9997662305831909\n",
            "tanh , 0.999638557434082\n",
            "sigmoid , 0.9996371269226074\n"
          ]
        },
        {
          "output_type": "stream",
          "name": "stderr",
          "text": [
            "train loss: 1.67e-06 | test loss: 1.67e-06 | reg: 1.84e-01 : 100%|██| 20/20 [00:00<00:00, 21.79it/s]\n"
          ]
        },
        {
          "output_type": "stream",
          "name": "stdout",
          "text": [
            "function , r2\n",
            "cosh , 0.9999991655349731\n",
            "x^2 , 0.9996203780174255\n",
            "sin , 0.9994373321533203\n",
            "gaussian , 0.9987638592720032\n",
            "x^3 , 0.9986606240272522\n"
          ]
        },
        {
          "output_type": "stream",
          "name": "stderr",
          "text": [
            "train loss: 1.44e-06 | test loss: 1.44e-06 | reg: 1.60e-01 : 100%|██| 20/20 [00:00<00:00, 20.03it/s]\n"
          ]
        },
        {
          "output_type": "stream",
          "name": "stdout",
          "text": [
            "function , r2\n",
            "cosh , 0.9999956488609314\n",
            "x^2 , 0.9997671246528625\n",
            "sin , 0.999495804309845\n",
            "gaussian , 0.9992839694023132\n",
            "x^3 , 0.9941052198410034\n"
          ]
        },
        {
          "output_type": "stream",
          "name": "stderr",
          "text": [
            "train loss: 1.19e-06 | test loss: 1.19e-06 | reg: 1.39e-01 : 100%|██| 20/20 [00:01<00:00, 16.94it/s]\n"
          ]
        },
        {
          "output_type": "stream",
          "name": "stdout",
          "text": [
            "function , r2\n",
            "x^2 , 0.9999061822891235\n",
            "cosh , 0.9997879862785339\n",
            "sin , 0.9997011423110962\n",
            "gaussian , 0.9978270530700684\n",
            "sigmoid , 0.9780415892601013\n"
          ]
        },
        {
          "output_type": "stream",
          "name": "stderr",
          "text": [
            "train loss: 9.46e-07 | test loss: 9.46e-07 | reg: 1.23e-01 : 100%|██| 20/20 [00:00<00:00, 21.04it/s]\n"
          ]
        },
        {
          "output_type": "stream",
          "name": "stdout",
          "text": [
            "function , r2\n",
            "x^2 , 0.9999921917915344\n",
            "sin , 0.9998542666435242\n",
            "gaussian , 0.9985643625259399\n",
            "cosh , 0.9978693127632141\n",
            "tanh , 0.9372186660766602\n"
          ]
        },
        {
          "output_type": "stream",
          "name": "stderr",
          "text": [
            "train loss: 7.10e-07 | test loss: 7.10e-07 | reg: 1.15e-01 : 100%|██| 20/20 [00:00<00:00, 22.35it/s]\n"
          ]
        },
        {
          "output_type": "stream",
          "name": "stdout",
          "text": [
            "function , r2\n",
            "x^2 , 0.9999417662620544\n",
            "sin , 0.9999182224273682\n",
            "cosh , 0.9993168711662292\n",
            "gaussian , 0.9961113929748535\n",
            "abs , 0.9302396774291992\n"
          ]
        },
        {
          "output_type": "stream",
          "name": "stderr",
          "text": [
            "train loss: 4.78e-07 | test loss: 4.78e-07 | reg: 1.14e-01 : 100%|██| 20/20 [00:00<00:00, 20.39it/s]\n"
          ]
        },
        {
          "output_type": "stream",
          "name": "stdout",
          "text": [
            "function , r2\n",
            "sin , 0.9997866153717041\n",
            "x^2 , 0.9996584057807922\n",
            "cosh , 0.9942755103111267\n",
            "gaussian , 0.9798856973648071\n",
            "abs , 0.936910092830658\n"
          ]
        },
        {
          "output_type": "stream",
          "name": "stderr",
          "text": [
            "train loss: 2.67e-07 | test loss: 2.67e-07 | reg: 1.18e-01 : 100%|██| 20/20 [00:00<00:00, 20.60it/s]\n"
          ]
        },
        {
          "output_type": "stream",
          "name": "stdout",
          "text": [
            "function , r2\n",
            "sin , 0.9992178678512573\n",
            "x^2 , 0.9991378784179688\n",
            "gaussian , 0.9990885257720947\n",
            "cosh , 0.9988974928855896\n",
            "abs , 0.939662754535675\n"
          ]
        },
        {
          "output_type": "stream",
          "name": "stderr",
          "text": [
            "train loss: 1.92e-07 | test loss: 1.92e-07 | reg: 1.27e-01 : 100%|██| 20/20 [00:00<00:00, 25.88it/s]\n"
          ]
        },
        {
          "output_type": "stream",
          "name": "stdout",
          "text": [
            "function , r2\n",
            "x^2 , 0.9985411167144775\n",
            "cosh , 0.9984979033470154\n",
            "sin , 0.9981679916381836\n",
            "gaussian , 0.9980800747871399\n",
            "abs , 0.934815526008606\n"
          ]
        },
        {
          "output_type": "stream",
          "name": "stderr",
          "text": [
            "train loss: 2.23e-06 | test loss: 2.23e-06 | reg: 2.60e-01 : 100%|██| 20/20 [00:00<00:00, 20.76it/s]\n"
          ]
        },
        {
          "output_type": "stream",
          "name": "stdout",
          "text": [
            "function , r2\n",
            "cosh , 0.9999932646751404\n",
            "exp , 0.9999839663505554\n",
            "tanh , 0.9999824166297913\n",
            "x^4 , 0.9999750256538391\n",
            "arctan , 0.9999717473983765\n"
          ]
        },
        {
          "output_type": "stream",
          "name": "stderr",
          "text": [
            "train loss: 2.03e-06 | test loss: 2.03e-06 | reg: 2.32e-01 : 100%|██| 20/20 [00:00<00:00, 21.55it/s]\n"
          ]
        },
        {
          "output_type": "stream",
          "name": "stdout",
          "text": [
            "function , r2\n",
            "cosh , 0.9999966025352478\n",
            "x^3 , 0.9999816417694092\n",
            "gaussian , 0.9999538660049438\n",
            "tanh , 0.9999339580535889\n",
            "sigmoid , 0.9999309778213501\n"
          ]
        },
        {
          "output_type": "stream",
          "name": "stderr",
          "text": [
            "train loss: 1.74e-06 | test loss: 1.74e-06 | reg: 2.05e-01 : 100%|██| 20/20 [00:01<00:00, 16.76it/s]\n"
          ]
        },
        {
          "output_type": "stream",
          "name": "stdout",
          "text": [
            "function , r2\n",
            "cosh , 0.9999964833259583\n",
            "x^2 , 0.9998263716697693\n",
            "gaussian , 0.9997668266296387\n",
            "x^3 , 0.9997120499610901\n",
            "sin , 0.9997116923332214\n"
          ]
        },
        {
          "output_type": "stream",
          "name": "stderr",
          "text": [
            "train loss: 1.50e-06 | test loss: 1.50e-06 | reg: 1.79e-01 : 100%|██| 20/20 [00:00<00:00, 24.16it/s]\n"
          ]
        },
        {
          "output_type": "stream",
          "name": "stdout",
          "text": [
            "function , r2\n",
            "cosh , 0.9999545812606812\n",
            "x^2 , 0.9999237656593323\n",
            "sin , 0.999809980392456\n",
            "gaussian , 0.9988470077514648\n",
            "x^3 , 0.9984462261199951\n"
          ]
        },
        {
          "output_type": "stream",
          "name": "stderr",
          "text": [
            "train loss: 1.26e-06 | test loss: 1.26e-06 | reg: 1.55e-01 : 100%|██| 20/20 [00:00<00:00, 22.44it/s]\n"
          ]
        },
        {
          "output_type": "stream",
          "name": "stdout",
          "text": [
            "function , r2\n",
            "x^2 , 0.9999879002571106\n",
            "cosh , 0.9999626278877258\n",
            "sin , 0.9998844265937805\n",
            "gaussian , 0.9997446537017822\n",
            "x^3 , 0.9939815998077393\n"
          ]
        },
        {
          "output_type": "stream",
          "name": "stderr",
          "text": [
            "train loss: 1.01e-06 | test loss: 1.01e-06 | reg: 1.33e-01 : 100%|██| 20/20 [00:00<00:00, 23.29it/s]\n"
          ]
        },
        {
          "output_type": "stream",
          "name": "stdout",
          "text": [
            "function , r2\n",
            "x^2 , 0.9999664425849915\n",
            "sin , 0.999883234500885\n",
            "cosh , 0.999143123626709\n",
            "gaussian , 0.9988927841186523\n",
            "tanh , 0.978797972202301\n"
          ]
        },
        {
          "output_type": "stream",
          "name": "stderr",
          "text": [
            "train loss: 7.72e-07 | test loss: 7.72e-07 | reg: 1.17e-01 : 100%|██| 20/20 [00:00<00:00, 22.80it/s]\n"
          ]
        },
        {
          "output_type": "stream",
          "name": "stdout",
          "text": [
            "function , r2\n",
            "sin , 0.9999326467514038\n",
            "x^2 , 0.999760091304779\n",
            "cosh , 0.9994867444038391\n",
            "gaussian , 0.9994862079620361\n",
            "tanh , 0.9365765452384949\n"
          ]
        },
        {
          "output_type": "stream",
          "name": "stderr",
          "text": [
            "train loss: 5.39e-07 | test loss: 5.39e-07 | reg: 1.08e-01 : 100%|██| 20/20 [00:00<00:00, 21.53it/s]\n"
          ]
        },
        {
          "output_type": "stream",
          "name": "stdout",
          "text": [
            "function , r2\n",
            "sin , 0.9997549653053284\n",
            "x^2 , 0.9992306232452393\n",
            "cosh , 0.9979138970375061\n",
            "gaussian , 0.9977999329566956\n",
            "abs , 0.9377142786979675\n"
          ]
        },
        {
          "output_type": "stream",
          "name": "stderr",
          "text": [
            "train loss: 3.30e-07 | test loss: 3.30e-07 | reg: 1.07e-01 : 100%|██| 20/20 [00:00<00:00, 21.52it/s]\n"
          ]
        },
        {
          "output_type": "stream",
          "name": "stdout",
          "text": [
            "function , r2\n",
            "sin , 0.9990792274475098\n",
            "x^2 , 0.9983071684837341\n",
            "cosh , 0.9912199378013611\n",
            "gaussian , 0.9838364720344543\n",
            "abs , 0.9422997832298279\n"
          ]
        },
        {
          "output_type": "stream",
          "name": "stderr",
          "text": [
            "train loss: 1.95e-07 | test loss: 1.95e-07 | reg: 1.12e-01 : 100%|██| 20/20 [00:01<00:00, 18.60it/s]\n"
          ]
        },
        {
          "output_type": "stream",
          "name": "stdout",
          "text": [
            "function , r2\n",
            "sin , 0.9974242448806763\n",
            "gaussian , 0.9973311424255371\n",
            "x^2 , 0.9972000122070312\n",
            "cosh , 0.99689120054245\n",
            "abs , 0.9402045011520386\n"
          ]
        },
        {
          "output_type": "stream",
          "name": "stderr",
          "text": [
            "train loss: 3.07e-07 | test loss: 3.07e-07 | reg: 1.21e-01 : 100%|██| 20/20 [00:01<00:00, 15.22it/s]\n"
          ]
        },
        {
          "output_type": "stream",
          "name": "stdout",
          "text": [
            "function , r2\n",
            "cosh , 0.9964801073074341\n",
            "x^2 , 0.9963343739509583\n",
            "sin , 0.9959864020347595\n",
            "gaussian , 0.9956439137458801\n",
            "abs , 0.9297642111778259\n"
          ]
        },
        {
          "output_type": "stream",
          "name": "stderr",
          "text": [
            "train loss: 2.06e-06 | test loss: 2.06e-06 | reg: 2.57e-01 : 100%|██| 20/20 [00:00<00:00, 21.43it/s]\n"
          ]
        },
        {
          "output_type": "stream",
          "name": "stdout",
          "text": [
            "function , r2\n",
            "x^4 , 0.9999898672103882\n",
            "x^3 , 0.9999840259552002\n",
            "tanh , 0.9999814033508301\n",
            "cosh , 0.999980628490448\n",
            "sigmoid , 0.9999730587005615\n"
          ]
        },
        {
          "output_type": "stream",
          "name": "stderr",
          "text": [
            "train loss: 1.80e-06 | test loss: 1.80e-06 | reg: 2.28e-01 : 100%|██| 20/20 [00:00<00:00, 24.52it/s]\n"
          ]
        },
        {
          "output_type": "stream",
          "name": "stdout",
          "text": [
            "function , r2\n",
            "cosh , 0.9999676942825317\n",
            "gaussian , 0.9999465346336365\n",
            "x^2 , 0.9999381899833679\n",
            "x^3 , 0.9999350905418396\n",
            "tanh , 0.9999257326126099\n"
          ]
        },
        {
          "output_type": "stream",
          "name": "stderr",
          "text": [
            "train loss: 1.56e-06 | test loss: 1.56e-06 | reg: 2.00e-01 : 100%|██| 20/20 [00:00<00:00, 20.91it/s]\n"
          ]
        },
        {
          "output_type": "stream",
          "name": "stdout",
          "text": [
            "function , r2\n",
            "x^2 , 0.9999861717224121\n",
            "cosh , 0.9999809861183167\n",
            "sin , 0.9999337792396545\n",
            "gaussian , 0.9997634291648865\n",
            "tanh , 0.9996618628501892\n"
          ]
        },
        {
          "output_type": "stream",
          "name": "stderr",
          "text": [
            "train loss: 1.33e-06 | test loss: 1.33e-06 | reg: 1.74e-01 : 100%|██| 20/20 [00:00<00:00, 21.02it/s]\n"
          ]
        },
        {
          "output_type": "stream",
          "name": "stdout",
          "text": [
            "function , r2\n",
            "x^2 , 0.9999808073043823\n",
            "sin , 0.9999693036079407\n",
            "cosh , 0.9996538758277893\n",
            "gaussian , 0.9989100098609924\n",
            "tanh , 0.9985538125038147\n"
          ]
        },
        {
          "output_type": "stream",
          "name": "stderr",
          "text": [
            "train loss: 1.07e-06 | test loss: 1.07e-06 | reg: 1.50e-01 : 100%|██| 20/20 [00:00<00:00, 21.85it/s]\n"
          ]
        },
        {
          "output_type": "stream",
          "name": "stdout",
          "text": [
            "function , r2\n",
            "sin , 0.9999732375144958\n",
            "gaussian , 0.9999253749847412\n",
            "x^2 , 0.9998628497123718\n",
            "cosh , 0.9996561408042908\n",
            "tanh , 0.9942790865898132\n"
          ]
        },
        {
          "output_type": "stream",
          "name": "stderr",
          "text": [
            "train loss: 8.38e-07 | test loss: 8.38e-07 | reg: 1.28e-01 : 100%|██| 20/20 [00:00<00:00, 22.73it/s]\n"
          ]
        },
        {
          "output_type": "stream",
          "name": "stdout",
          "text": [
            "function , r2\n",
            "sin , 0.9999428391456604\n",
            "gaussian , 0.999909520149231\n",
            "x^2 , 0.9995195269584656\n",
            "cosh , 0.9978922605514526\n",
            "tanh , 0.9795185327529907\n"
          ]
        },
        {
          "output_type": "stream",
          "name": "stderr",
          "text": [
            "train loss: 6.03e-07 | test loss: 6.03e-07 | reg: 1.10e-01 : 100%|██| 20/20 [00:01<00:00, 16.83it/s]\n"
          ]
        },
        {
          "output_type": "stream",
          "name": "stdout",
          "text": [
            "function , r2\n",
            "sin , 0.9998137950897217\n",
            "gaussian , 0.9997873306274414\n",
            "x^2 , 0.9987618327140808\n",
            "cosh , 0.9982634782791138\n",
            "abs , 0.9422873854637146\n"
          ]
        },
        {
          "output_type": "stream",
          "name": "stderr",
          "text": [
            "train loss: 3.87e-07 | test loss: 3.87e-07 | reg: 1.02e-01 : 100%|██| 20/20 [00:01<00:00, 18.86it/s]\n"
          ]
        },
        {
          "output_type": "stream",
          "name": "stdout",
          "text": [
            "function , r2\n",
            "sin , 0.9992998838424683\n",
            "gaussian , 0.9987379908561707\n",
            "x^2 , 0.9973756670951843\n",
            "cosh , 0.9952552318572998\n",
            "abs , 0.9455261826515198\n"
          ]
        },
        {
          "output_type": "stream",
          "name": "stderr",
          "text": [
            "train loss: 2.40e-07 | test loss: 2.40e-07 | reg: 1.00e-01 : 100%|██| 20/20 [00:00<00:00, 23.36it/s]\n"
          ]
        },
        {
          "output_type": "stream",
          "name": "stdout",
          "text": [
            "function , r2\n",
            "sin , 0.9974730014801025\n",
            "x^2 , 0.9954224228858948\n",
            "gaussian , 0.9867523312568665\n",
            "cosh , 0.9865828156471252\n",
            "abs , 0.946847677230835\n"
          ]
        },
        {
          "output_type": "stream",
          "name": "stderr",
          "text": [
            "train loss: 2.99e-07 | test loss: 2.99e-07 | reg: 1.05e-01 : 100%|██| 20/20 [00:00<00:00, 22.76it/s]\n"
          ]
        },
        {
          "output_type": "stream",
          "name": "stdout",
          "text": [
            "function , r2\n",
            "sin , 0.9938675165176392\n",
            "gaussian , 0.9937913417816162\n",
            "x^2 , 0.9936062097549438\n",
            "cosh , 0.993238627910614\n",
            "abs , 0.9381966590881348\n"
          ]
        },
        {
          "output_type": "stream",
          "name": "stderr",
          "text": [
            "train loss: 4.74e-07 | test loss: 4.74e-07 | reg: 1.16e-01 : 100%|██| 20/20 [00:00<00:00, 22.52it/s]\n"
          ]
        },
        {
          "output_type": "stream",
          "name": "stdout",
          "text": [
            "function , r2\n",
            "x^2 , 0.9927310347557068\n",
            "sin , 0.992283046245575\n",
            "gaussian , 0.9916989207267761\n",
            "cosh , 0.985639214515686\n",
            "abs , 0.9212248921394348\n"
          ]
        },
        {
          "output_type": "stream",
          "name": "stderr",
          "text": [
            "train loss: 1.87e-06 | test loss: 1.87e-06 | reg: 2.53e-01 : 100%|██| 20/20 [00:00<00:00, 21.78it/s]\n"
          ]
        },
        {
          "output_type": "stream",
          "name": "stdout",
          "text": [
            "function , r2\n",
            "cosh , 0.9999892115592957\n",
            "x^2 , 0.9999853372573853\n",
            "tanh , 0.9999764561653137\n",
            "x^3 , 0.9999762177467346\n",
            "sigmoid , 0.9999719262123108\n"
          ]
        },
        {
          "output_type": "stream",
          "name": "stderr",
          "text": [
            "train loss: 1.63e-06 | test loss: 1.63e-06 | reg: 2.24e-01 : 100%|██| 20/20 [00:00<00:00, 20.69it/s]\n"
          ]
        },
        {
          "output_type": "stream",
          "name": "stdout",
          "text": [
            "function , r2\n",
            "x^2 , 0.9999876618385315\n",
            "sin , 0.9999815225601196\n",
            "cosh , 0.9999555349349976\n",
            "gaussian , 0.9999386668205261\n",
            "tanh , 0.9999181628227234\n"
          ]
        },
        {
          "output_type": "stream",
          "name": "stderr",
          "text": [
            "train loss: 1.39e-06 | test loss: 1.39e-06 | reg: 1.96e-01 : 100%|██| 20/20 [00:01<00:00, 15.39it/s]\n"
          ]
        },
        {
          "output_type": "stream",
          "name": "stdout",
          "text": [
            "function , r2\n",
            "sin , 0.9999862909317017\n",
            "gaussian , 0.999964714050293\n",
            "x^2 , 0.9999218583106995\n",
            "tanh , 0.9996706247329712\n",
            "sigmoid , 0.9996693134307861\n"
          ]
        },
        {
          "output_type": "stream",
          "name": "stderr",
          "text": [
            "train loss: 1.14e-06 | test loss: 1.14e-06 | reg: 1.69e-01 : 100%|██| 20/20 [00:01<00:00, 13.71it/s]\n"
          ]
        },
        {
          "output_type": "stream",
          "name": "stdout",
          "text": [
            "function , r2\n",
            "sin , 0.9999805092811584\n",
            "x^2 , 0.9997262954711914\n",
            "cosh , 0.9993475079536438\n",
            "gaussian , 0.9989575147628784\n",
            "tanh , 0.9986544847488403\n"
          ]
        },
        {
          "output_type": "stream",
          "name": "stderr",
          "text": [
            "train loss: 9.07e-07 | test loss: 9.07e-07 | reg: 1.44e-01 : 100%|██| 20/20 [00:00<00:00, 22.55it/s]\n"
          ]
        },
        {
          "output_type": "stream",
          "name": "stdout",
          "text": [
            "function , r2\n",
            "sin , 0.9999589920043945\n",
            "gaussian , 0.999949038028717\n",
            "x^2 , 0.9992832541465759\n",
            "cosh , 0.998874306678772\n",
            "tanh , 0.994661808013916\n"
          ]
        },
        {
          "output_type": "stream",
          "name": "stderr",
          "text": [
            "train loss: 6.75e-07 | test loss: 6.75e-07 | reg: 1.22e-01 : 100%|██| 20/20 [00:00<00:00, 22.82it/s]\n"
          ]
        },
        {
          "output_type": "stream",
          "name": "stdout",
          "text": [
            "function , r2\n",
            "sin , 0.9998828172683716\n",
            "gaussian , 0.9998782873153687\n",
            "x^2 , 0.9983745813369751\n",
            "cosh , 0.9979462623596191\n",
            "tanh , 0.9802092909812927\n"
          ]
        },
        {
          "output_type": "stream",
          "name": "stderr",
          "text": [
            "train loss: 4.62e-07 | test loss: 4.62e-07 | reg: 1.04e-01 : 100%|██| 20/20 [00:00<00:00, 22.01it/s]\n"
          ]
        },
        {
          "output_type": "stream",
          "name": "stdout",
          "text": [
            "function , r2\n",
            "gaussian , 0.9995981454849243\n",
            "sin , 0.9995940327644348\n",
            "x^2 , 0.9966495633125305\n",
            "cosh , 0.995880126953125\n",
            "abs , 0.951285183429718\n"
          ]
        },
        {
          "output_type": "stream",
          "name": "stderr",
          "text": [
            "train loss: 3.01e-07 | test loss: 3.01e-07 | reg: 9.49e-02 : 100%|██| 20/20 [00:01<00:00, 19.94it/s]\n"
          ]
        },
        {
          "output_type": "stream",
          "name": "stdout",
          "text": [
            "function , r2\n",
            "sin , 0.998451292514801\n",
            "gaussian , 0.9959578514099121\n",
            "x^2 , 0.9937822818756104\n",
            "cosh , 0.9907206296920776\n",
            "abs , 0.9534655809402466\n"
          ]
        },
        {
          "output_type": "stream",
          "name": "stderr",
          "text": [
            "train loss: 2.93e-07 | test loss: 2.93e-07 | reg: 9.38e-02 : 100%|██| 20/20 [00:01<00:00, 19.84it/s]\n"
          ]
        },
        {
          "output_type": "stream",
          "name": "stdout",
          "text": [
            "function , r2\n",
            "sin , 0.9943904280662537\n",
            "x^2 , 0.990205705165863\n",
            "gaussian , 0.9877626299858093\n",
            "cosh , 0.9761220216751099\n",
            "abs , 0.949742317199707\n"
          ]
        },
        {
          "output_type": "stream",
          "name": "stderr",
          "text": [
            "train loss: 4.49e-07 | test loss: 4.49e-07 | reg: 9.92e-02 : 100%|██| 20/20 [00:00<00:00, 20.66it/s]\n"
          ]
        },
        {
          "output_type": "stream",
          "name": "stdout",
          "text": [
            "function , r2\n",
            "x^2 , 0.9876754879951477\n",
            "gaussian , 0.9876450896263123\n",
            "sin , 0.987456738948822\n",
            "cosh , 0.9873751997947693\n",
            "abs , 0.9320315718650818\n"
          ]
        },
        {
          "output_type": "stream",
          "name": "stderr",
          "text": [
            "train loss: 6.45e-07 | test loss: 6.45e-07 | reg: 1.11e-01 : 100%|██| 20/20 [00:00<00:00, 21.12it/s]\n"
          ]
        },
        {
          "output_type": "stream",
          "name": "stdout",
          "text": [
            "function , r2\n",
            "x^2 , 0.9873684644699097\n",
            "sin , 0.9867107272148132\n",
            "cosh , 0.9863604307174683\n",
            "gaussian , 0.9859359860420227\n",
            "x^4 , 0.9239130616188049\n"
          ]
        },
        {
          "output_type": "stream",
          "name": "stderr",
          "text": [
            "train loss: 1.70e-06 | test loss: 1.70e-06 | reg: 2.50e-01 : 100%|██| 20/20 [00:01<00:00, 13.13it/s]\n"
          ]
        },
        {
          "output_type": "stream",
          "name": "stdout",
          "text": [
            "function , r2\n",
            "sin , 0.9999911189079285\n",
            "tanh , 0.9999726414680481\n",
            "sigmoid , 0.999970555305481\n",
            "gaussian , 0.9999555349349976\n",
            "x^2 , 0.9999527335166931\n"
          ]
        },
        {
          "output_type": "stream",
          "name": "stderr",
          "text": [
            "train loss: 1.45e-06 | test loss: 1.45e-06 | reg: 2.20e-01 : 100%|██| 20/20 [00:00<00:00, 21.71it/s]\n"
          ]
        },
        {
          "output_type": "stream",
          "name": "stdout",
          "text": [
            "function , r2\n",
            "sin , 0.9999904036521912\n",
            "gaussian , 0.9999315142631531\n",
            "tanh , 0.9999148845672607\n",
            "sigmoid , 0.9999135136604309\n",
            "x^2 , 0.9998382329940796\n"
          ]
        },
        {
          "output_type": "stream",
          "name": "stderr",
          "text": [
            "train loss: 1.21e-06 | test loss: 1.21e-06 | reg: 1.92e-01 : 100%|██| 20/20 [00:00<00:00, 25.80it/s]\n"
          ]
        },
        {
          "output_type": "stream",
          "name": "stdout",
          "text": [
            "function , r2\n",
            "sin , 0.9999867081642151\n",
            "gaussian , 0.9997521042823792\n",
            "tanh , 0.9996845722198486\n",
            "sigmoid , 0.9996834397315979\n",
            "x^2 , 0.9995862245559692\n"
          ]
        },
        {
          "output_type": "stream",
          "name": "stderr",
          "text": [
            "train loss: 9.86e-07 | test loss: 9.86e-07 | reg: 1.65e-01 : 100%|██| 20/20 [00:00<00:00, 25.21it/s]\n"
          ]
        },
        {
          "output_type": "stream",
          "name": "stdout",
          "text": [
            "function , r2\n",
            "sin , 0.9999749064445496\n",
            "x^2 , 0.9990827441215515\n",
            "gaussian , 0.9989948868751526\n",
            "cosh , 0.9988731145858765\n",
            "tanh , 0.9987542629241943\n"
          ]
        },
        {
          "output_type": "stream",
          "name": "stderr",
          "text": [
            "train loss: 7.51e-07 | test loss: 7.51e-07 | reg: 1.39e-01 : 100%|██| 20/20 [00:00<00:00, 22.26it/s]\n"
          ]
        },
        {
          "output_type": "stream",
          "name": "stdout",
          "text": [
            "function , r2\n",
            "sin , 0.9999372363090515\n",
            "x^2 , 0.99811190366745\n",
            "cosh , 0.997477114200592\n",
            "gaussian , 0.9957320094108582\n",
            "tanh , 0.9950295090675354\n"
          ]
        },
        {
          "output_type": "stream",
          "name": "stderr",
          "text": [
            "train loss: 5.40e-07 | test loss: 5.40e-07 | reg: 1.16e-01 : 100%|██| 20/20 [00:00<00:00, 21.94it/s]\n"
          ]
        },
        {
          "output_type": "stream",
          "name": "stdout",
          "text": [
            "function , r2\n",
            "gaussian , 0.9998222589492798\n",
            "sin , 0.9998034238815308\n",
            "x^2 , 0.9962720274925232\n",
            "cosh , 0.9957029819488525\n",
            "tanh , 0.9808864593505859\n"
          ]
        },
        {
          "output_type": "stream",
          "name": "stderr",
          "text": [
            "train loss: 3.74e-07 | test loss: 3.74e-07 | reg: 9.77e-02 : 100%|██| 20/20 [00:00<00:00, 23.03it/s]\n"
          ]
        },
        {
          "output_type": "stream",
          "name": "stdout",
          "text": [
            "function , r2\n",
            "gaussian , 0.9993160367012024\n",
            "sin , 0.9992740750312805\n",
            "x^2 , 0.9929139614105225\n",
            "cosh , 0.9918352365493774\n",
            "abs , 0.9605172872543335\n"
          ]
        },
        {
          "output_type": "stream",
          "name": "stderr",
          "text": [
            "train loss: 3.21e-07 | test loss: 3.21e-07 | reg: 8.81e-02 : 100%|██| 20/20 [00:01<00:00, 17.29it/s]\n"
          ]
        },
        {
          "output_type": "stream",
          "name": "stdout",
          "text": [
            "function , r2\n",
            "sin , 0.9970617890357971\n",
            "gaussian , 0.9966418743133545\n",
            "x^2 , 0.9875211119651794\n",
            "cosh , 0.9833481311798096\n",
            "abs , 0.9611251354217529\n"
          ]
        },
        {
          "output_type": "stream",
          "name": "stderr",
          "text": [
            "train loss: 4.36e-07 | test loss: 4.36e-07 | reg: 8.72e-02 : 100%|██| 20/20 [00:01<00:00, 16.31it/s]\n"
          ]
        },
        {
          "output_type": "stream",
          "name": "stdout",
          "text": [
            "function , r2\n",
            "sin , 0.9888256788253784\n",
            "x^2 , 0.9814247488975525\n",
            "gaussian , 0.9756945967674255\n",
            "cosh , 0.9653652906417847\n",
            "abs , 0.9498924016952515\n"
          ]
        },
        {
          "output_type": "stream",
          "name": "stderr",
          "text": [
            "train loss: 6.26e-07 | test loss: 6.26e-07 | reg: 9.30e-02 : 100%|██| 20/20 [00:00<00:00, 22.90it/s]\n"
          ]
        },
        {
          "output_type": "stream",
          "name": "stdout",
          "text": [
            "function , r2\n",
            "x^2 , 0.9784855246543884\n",
            "cosh , 0.9783727526664734\n",
            "gaussian , 0.9779769778251648\n",
            "sin , 0.9773945212364197\n",
            "abs , 0.9202472567558289\n"
          ]
        },
        {
          "output_type": "stream",
          "name": "stderr",
          "text": [
            "train loss: 8.51e-07 | test loss: 8.51e-07 | reg: 1.06e-01 : 100%|██| 20/20 [00:00<00:00, 21.13it/s]\n"
          ]
        },
        {
          "output_type": "stream",
          "name": "stdout",
          "text": [
            "function , r2\n",
            "cosh , 0.9847798347473145\n",
            "x^2 , 0.9798817038536072\n",
            "sin , 0.9789559841156006\n",
            "gaussian , 0.9779178500175476\n",
            "x^4 , 0.92859947681427\n"
          ]
        },
        {
          "output_type": "stream",
          "name": "stderr",
          "text": [
            "train loss: 1.53e-06 | test loss: 1.53e-06 | reg: 2.46e-01 : 100%|██| 20/20 [00:00<00:00, 21.56it/s]\n"
          ]
        },
        {
          "output_type": "stream",
          "name": "stdout",
          "text": [
            "function , r2\n",
            "sin , 0.9999935030937195\n",
            "gaussian , 0.9999931454658508\n",
            "tanh , 0.9999732971191406\n",
            "sigmoid , 0.9999719858169556\n",
            "arctan , 0.9999525547027588\n"
          ]
        },
        {
          "output_type": "stream",
          "name": "stderr",
          "text": [
            "train loss: 1.29e-06 | test loss: 1.29e-06 | reg: 2.17e-01 : 100%|██| 20/20 [00:00<00:00, 22.53it/s]\n"
          ]
        },
        {
          "output_type": "stream",
          "name": "stdout",
          "text": [
            "function , r2\n",
            "sin , 0.9999920129776001\n",
            "gaussian , 0.9999265670776367\n",
            "tanh , 0.9999195337295532\n",
            "sigmoid , 0.9999184012413025\n",
            "arctan , 0.9998357892036438\n"
          ]
        },
        {
          "output_type": "stream",
          "name": "stderr",
          "text": [
            "train loss: 1.06e-06 | test loss: 1.06e-06 | reg: 1.88e-01 : 100%|██| 20/20 [00:00<00:00, 25.57it/s]\n"
          ]
        },
        {
          "output_type": "stream",
          "name": "stdout",
          "text": [
            "function , r2\n",
            "gaussian , 0.9999904036521912\n",
            "sin , 0.9999871253967285\n",
            "tanh , 0.9997100830078125\n",
            "sigmoid , 0.9997090697288513\n",
            "arctan , 0.9993953704833984\n"
          ]
        },
        {
          "output_type": "stream",
          "name": "stderr",
          "text": [
            "train loss: 8.24e-07 | test loss: 8.24e-07 | reg: 1.60e-01 : 100%|██| 20/20 [00:00<00:00, 21.74it/s]\n"
          ]
        },
        {
          "output_type": "stream",
          "name": "stdout",
          "text": [
            "function , r2\n",
            "sin , 0.9999715685844421\n",
            "gaussian , 0.9990280866622925\n",
            "tanh , 0.9988658428192139\n",
            "sigmoid , 0.9988647699356079\n",
            "x^2 , 0.997957170009613\n"
          ]
        },
        {
          "output_type": "stream",
          "name": "stderr",
          "text": [
            "train loss: 6.13e-07 | test loss: 6.13e-07 | reg: 1.34e-01 : 100%|██| 20/20 [00:01<00:00, 16.30it/s]\n"
          ]
        },
        {
          "output_type": "stream",
          "name": "stdout",
          "text": [
            "function , r2\n",
            "gaussian , 0.9999415874481201\n",
            "sin , 0.9999187588691711\n",
            "x^2 , 0.9961771368980408\n",
            "tanh , 0.9954058527946472\n",
            "sigmoid , 0.9954048991203308\n"
          ]
        },
        {
          "output_type": "stream",
          "name": "stderr",
          "text": [
            "train loss: 4.45e-07 | test loss: 4.45e-07 | reg: 1.11e-01 : 100%|██| 20/20 [00:00<00:00, 21.79it/s]\n"
          ]
        },
        {
          "output_type": "stream",
          "name": "stdout",
          "text": [
            "function , r2\n",
            "gaussian , 0.9997739791870117\n",
            "sin , 0.9997171759605408\n",
            "x^2 , 0.9928627610206604\n",
            "cosh , 0.9921525716781616\n",
            "tanh , 0.9815841913223267\n"
          ]
        },
        {
          "output_type": "stream",
          "name": "stderr",
          "text": [
            "train loss: 3.70e-07 | test loss: 3.70e-07 | reg: 9.14e-02 : 100%|██| 20/20 [00:00<00:00, 22.00it/s]\n"
          ]
        },
        {
          "output_type": "stream",
          "name": "stdout",
          "text": [
            "function , r2\n",
            "gaussian , 0.9989711046218872\n",
            "sin , 0.9988547563552856\n",
            "x^2 , 0.9868030548095703\n",
            "cosh , 0.9853452444076538\n",
            "abs , 0.9698774218559265\n"
          ]
        },
        {
          "output_type": "stream",
          "name": "stderr",
          "text": [
            "train loss: 4.41e-07 | test loss: 4.41e-07 | reg: 8.13e-02 : 100%|██| 20/20 [00:00<00:00, 22.27it/s]\n"
          ]
        },
        {
          "output_type": "stream",
          "name": "stdout",
          "text": [
            "function , r2\n",
            "gaussian , 0.9949374198913574\n",
            "sin , 0.9949111938476562\n",
            "x^2 , 0.9771133661270142\n",
            "cosh , 0.9716176986694336\n",
            "abs , 0.9677231311798096\n"
          ]
        },
        {
          "output_type": "stream",
          "name": "stderr",
          "text": [
            "train loss: 6.04e-07 | test loss: 6.04e-07 | reg: 8.01e-02 : 100%|██| 20/20 [00:00<00:00, 20.24it/s]\n"
          ]
        },
        {
          "output_type": "stream",
          "name": "stdout",
          "text": [
            "function , r2\n",
            "sin , 0.9790427684783936\n",
            "gaussian , 0.9715245366096497\n",
            "x^2 , 0.9671696424484253\n",
            "cosh , 0.9450167417526245\n",
            "abs , 0.9448630213737488\n"
          ]
        },
        {
          "output_type": "stream",
          "name": "stderr",
          "text": [
            "train loss: 8.20e-07 | test loss: 8.20e-07 | reg: 8.70e-02 : 100%|██| 20/20 [00:00<00:00, 22.02it/s]\n"
          ]
        },
        {
          "output_type": "stream",
          "name": "stdout",
          "text": [
            "function , r2\n",
            "cosh , 0.9654617309570312\n",
            "x^2 , 0.9648935794830322\n",
            "sin , 0.9638569355010986\n",
            "gaussian , 0.9636803269386292\n",
            "x^4 , 0.900275468826294\n"
          ]
        },
        {
          "output_type": "stream",
          "name": "stderr",
          "text": [
            "train loss: 1.03e-06 | test loss: 1.03e-06 | reg: 1.03e-01 : 100%|██| 20/20 [00:00<00:00, 20.27it/s]\n"
          ]
        },
        {
          "output_type": "stream",
          "name": "stdout",
          "text": [
            "function , r2\n",
            "cosh , 0.9807411432266235\n",
            "x^2 , 0.9699724912643433\n",
            "sin , 0.9677164554595947\n",
            "gaussian , 0.9394859671592712\n",
            "x^4 , 0.9351861476898193\n"
          ]
        },
        {
          "output_type": "stream",
          "name": "stderr",
          "text": [
            "train loss: 1.36e-06 | test loss: 1.36e-06 | reg: 2.43e-01 : 100%|██| 20/20 [00:01<00:00, 11.31it/s]\n"
          ]
        },
        {
          "output_type": "stream",
          "name": "stdout",
          "text": [
            "function , r2\n",
            "gaussian , 0.9999983310699463\n",
            "sin , 0.9999961256980896\n",
            "tanh , 0.9999803900718689\n",
            "sigmoid , 0.9999794363975525\n",
            "arctan , 0.999964714050293\n"
          ]
        },
        {
          "output_type": "stream",
          "name": "stderr",
          "text": [
            "train loss: 1.13e-06 | test loss: 1.13e-06 | reg: 2.13e-01 : 100%|██| 20/20 [00:01<00:00, 12.77it/s]\n"
          ]
        },
        {
          "output_type": "stream",
          "name": "stdout",
          "text": [
            "function , r2\n",
            "sin , 0.9999948143959045\n",
            "tanh , 0.9999347925186157\n",
            "sigmoid , 0.9999338984489441\n",
            "gaussian , 0.9999252557754517\n",
            "arctan , 0.9998689293861389\n"
          ]
        },
        {
          "output_type": "stream",
          "name": "stderr",
          "text": [
            "train loss: 9.03e-07 | test loss: 9.03e-07 | reg: 1.84e-01 : 100%|██| 20/20 [00:01<00:00, 18.26it/s]\n"
          ]
        },
        {
          "output_type": "stream",
          "name": "stdout",
          "text": [
            "function , r2\n",
            "sin , 0.9999901056289673\n",
            "tanh , 0.9997530579566956\n",
            "sigmoid , 0.9997521042823792\n",
            "gaussian , 0.9997518062591553\n",
            "arctan , 0.9994998574256897\n"
          ]
        },
        {
          "output_type": "stream",
          "name": "stderr",
          "text": [
            "train loss: 6.93e-07 | test loss: 6.93e-07 | reg: 1.56e-01 : 100%|██| 20/20 [00:00<00:00, 20.39it/s]\n"
          ]
        },
        {
          "output_type": "stream",
          "name": "stdout",
          "text": [
            "function , r2\n",
            "gaussian , 0.9999900460243225\n",
            "sin , 0.9999505281448364\n",
            "tanh , 0.9990032911300659\n",
            "sigmoid , 0.9990023970603943\n",
            "arctan , 0.9981098771095276\n"
          ]
        },
        {
          "output_type": "stream",
          "name": "stderr",
          "text": [
            "train loss: 5.19e-07 | test loss: 5.19e-07 | reg: 1.30e-01 : 100%|██| 20/20 [00:00<00:00, 24.30it/s]\n"
          ]
        },
        {
          "output_type": "stream",
          "name": "stdout",
          "text": [
            "function , r2\n",
            "gaussian , 0.9999538660049438\n",
            "sin , 0.9999096393585205\n",
            "tanh , 0.9958220720291138\n",
            "sigmoid , 0.9958210587501526\n",
            "x^2 , 0.9932664036750793\n"
          ]
        },
        {
          "output_type": "stream",
          "name": "stderr",
          "text": [
            "train loss: 4.23e-07 | test loss: 4.23e-07 | reg: 1.06e-01 : 100%|██| 20/20 [00:00<00:00, 23.48it/s]\n"
          ]
        },
        {
          "output_type": "stream",
          "name": "stdout",
          "text": [
            "function , r2\n",
            "gaussian , 0.999754786491394\n",
            "sin , 0.9996393918991089\n",
            "x^2 , 0.9876787066459656\n",
            "cosh , 0.9868295788764954\n",
            "tanh , 0.9823619723320007\n"
          ]
        },
        {
          "output_type": "stream",
          "name": "stderr",
          "text": [
            "train loss: 4.61e-07 | test loss: 4.61e-07 | reg: 8.53e-02 : 100%|██| 20/20 [00:00<00:00, 20.16it/s]\n"
          ]
        },
        {
          "output_type": "stream",
          "name": "stdout",
          "text": [
            "function , r2\n",
            "gaussian , 0.998526930809021\n",
            "sin , 0.9983500838279724\n",
            "abs , 0.9785906672477722\n",
            "x^2 , 0.9771997928619385\n",
            "cosh , 0.9752848148345947\n"
          ]
        },
        {
          "output_type": "stream",
          "name": "stderr",
          "text": [
            "train loss: 5.98e-07 | test loss: 5.98e-07 | reg: 7.45e-02 : 100%|██| 20/20 [00:01<00:00, 14.26it/s]\n"
          ]
        },
        {
          "output_type": "stream",
          "name": "stdout",
          "text": [
            "function , r2\n",
            "gaussian , 0.9917387962341309\n",
            "sin , 0.9917001724243164\n",
            "abs , 0.9717774391174316\n",
            "x^2 , 0.9601570963859558\n",
            "cosh , 0.9530802965164185\n"
          ]
        },
        {
          "output_type": "stream",
          "name": "stderr",
          "text": [
            "train loss: 7.98e-07 | test loss: 7.98e-07 | reg: 7.32e-02 : 100%|██| 20/20 [00:01<00:00, 19.13it/s]\n"
          ]
        },
        {
          "output_type": "error",
          "ename": "KeyboardInterrupt",
          "evalue": "",
          "traceback": [
            "\u001b[0;31m---------------------------------------------------------------------------\u001b[0m",
            "\u001b[0;31mKeyboardInterrupt\u001b[0m                         Traceback (most recent call last)",
            "\u001b[0;32m<ipython-input-26-5a88ddc79de3>\u001b[0m in \u001b[0;36m<cell line: 7>\u001b[0;34m()\u001b[0m\n\u001b[1;32m      8\u001b[0m     \u001b[0;32mfor\u001b[0m \u001b[0mj\u001b[0m \u001b[0;32min\u001b[0m \u001b[0mrange\u001b[0m\u001b[0;34m(\u001b[0m\u001b[0mnum\u001b[0m\u001b[0;34m)\u001b[0m\u001b[0;34m:\u001b[0m\u001b[0;34m\u001b[0m\u001b[0;34m\u001b[0m\u001b[0m\n\u001b[1;32m      9\u001b[0m         \u001b[0ma\u001b[0m \u001b[0;34m=\u001b[0m \u001b[0ma_arr\u001b[0m\u001b[0;34m[\u001b[0m\u001b[0mi\u001b[0m\u001b[0;34m]\u001b[0m\u001b[0;34m;\u001b[0m \u001b[0mb\u001b[0m \u001b[0;34m=\u001b[0m \u001b[0mb_arr\u001b[0m\u001b[0;34m[\u001b[0m\u001b[0mj\u001b[0m\u001b[0;34m]\u001b[0m\u001b[0;34m\u001b[0m\u001b[0;34m\u001b[0m\u001b[0m\n\u001b[0;32m---> 10\u001b[0;31m         \u001b[0msf_mat\u001b[0m\u001b[0;34m[\u001b[0m\u001b[0mi\u001b[0m\u001b[0;34m,\u001b[0m\u001b[0mj\u001b[0m\u001b[0;34m]\u001b[0m \u001b[0;34m=\u001b[0m \u001b[0mmix\u001b[0m\u001b[0;34m(\u001b[0m\u001b[0ma\u001b[0m\u001b[0;34m,\u001b[0m \u001b[0mb\u001b[0m\u001b[0;34m)\u001b[0m\u001b[0;34m\u001b[0m\u001b[0;34m\u001b[0m\u001b[0m\n\u001b[0m",
            "\u001b[0;32m<ipython-input-24-f6beb6ccd2eb>\u001b[0m in \u001b[0;36mmix\u001b[0;34m(a, b, bound)\u001b[0m\n\u001b[1;32m      9\u001b[0m     \u001b[0mmodel\u001b[0m \u001b[0;34m=\u001b[0m \u001b[0mKAN\u001b[0m\u001b[0;34m(\u001b[0m\u001b[0mwidth\u001b[0m\u001b[0;34m=\u001b[0m\u001b[0;34m[\u001b[0m\u001b[0;36m1\u001b[0m\u001b[0;34m,\u001b[0m\u001b[0;36m1\u001b[0m\u001b[0;34m]\u001b[0m\u001b[0;34m,\u001b[0m \u001b[0mgrid\u001b[0m\u001b[0;34m=\u001b[0m\u001b[0;36m10\u001b[0m\u001b[0;34m,\u001b[0m \u001b[0mk\u001b[0m\u001b[0;34m=\u001b[0m\u001b[0;36m3\u001b[0m\u001b[0;34m,\u001b[0m \u001b[0mseed\u001b[0m\u001b[0;34m=\u001b[0m\u001b[0;36m0\u001b[0m\u001b[0;34m,\u001b[0m \u001b[0mgrid_range\u001b[0m\u001b[0;34m=\u001b[0m\u001b[0;34m(\u001b[0m\u001b[0;34m-\u001b[0m\u001b[0mbound\u001b[0m\u001b[0;34m,\u001b[0m\u001b[0mbound\u001b[0m\u001b[0;34m)\u001b[0m\u001b[0;34m)\u001b[0m\u001b[0;34m\u001b[0m\u001b[0;34m\u001b[0m\u001b[0m\n\u001b[1;32m     10\u001b[0m     \u001b[0mmodel\u001b[0m\u001b[0;34m.\u001b[0m\u001b[0mtrain\u001b[0m\u001b[0;34m(\u001b[0m\u001b[0mdataset\u001b[0m\u001b[0;34m,\u001b[0m \u001b[0mopt\u001b[0m\u001b[0;34m=\u001b[0m\u001b[0;34m\"LBFGS\"\u001b[0m\u001b[0;34m,\u001b[0m \u001b[0msteps\u001b[0m\u001b[0;34m=\u001b[0m\u001b[0;36m20\u001b[0m\u001b[0;34m)\u001b[0m\u001b[0;34m\u001b[0m\u001b[0;34m\u001b[0m\u001b[0m\n\u001b[0;32m---> 11\u001b[0;31m     \u001b[0;32mreturn\u001b[0m \u001b[0mmodel\u001b[0m\u001b[0;34m.\u001b[0m\u001b[0msuggest_symbolic\u001b[0m\u001b[0;34m(\u001b[0m\u001b[0;36m0\u001b[0m\u001b[0;34m,\u001b[0m\u001b[0;36m0\u001b[0m\u001b[0;34m,\u001b[0m\u001b[0;36m0\u001b[0m\u001b[0;34m)\u001b[0m\u001b[0;34m[\u001b[0m\u001b[0;36m0\u001b[0m\u001b[0;34m]\u001b[0m\u001b[0;34m\u001b[0m\u001b[0;34m\u001b[0m\u001b[0m\n\u001b[0m\u001b[1;32m     12\u001b[0m \u001b[0;34m\u001b[0m\u001b[0m\n",
            "\u001b[0;32m/usr/local/lib/python3.10/dist-packages/kan/KAN.py\u001b[0m in \u001b[0;36msuggest_symbolic\u001b[0;34m(self, l, i, j, a_range, b_range, lib, topk, verbose)\u001b[0m\n\u001b[1;32m   1085\u001b[0m \u001b[0;34m\u001b[0m\u001b[0m\n\u001b[1;32m   1086\u001b[0m         \u001b[0;32mfor\u001b[0m \u001b[0;34m(\u001b[0m\u001b[0mname\u001b[0m\u001b[0;34m,\u001b[0m \u001b[0mfun\u001b[0m\u001b[0;34m)\u001b[0m \u001b[0;32min\u001b[0m \u001b[0msymbolic_lib\u001b[0m\u001b[0;34m.\u001b[0m\u001b[0mitems\u001b[0m\u001b[0;34m(\u001b[0m\u001b[0;34m)\u001b[0m\u001b[0;34m:\u001b[0m\u001b[0;34m\u001b[0m\u001b[0;34m\u001b[0m\u001b[0m\n\u001b[0;32m-> 1087\u001b[0;31m             \u001b[0mr2\u001b[0m \u001b[0;34m=\u001b[0m \u001b[0mself\u001b[0m\u001b[0;34m.\u001b[0m\u001b[0mfix_symbolic\u001b[0m\u001b[0;34m(\u001b[0m\u001b[0ml\u001b[0m\u001b[0;34m,\u001b[0m \u001b[0mi\u001b[0m\u001b[0;34m,\u001b[0m \u001b[0mj\u001b[0m\u001b[0;34m,\u001b[0m \u001b[0mname\u001b[0m\u001b[0;34m,\u001b[0m \u001b[0ma_range\u001b[0m\u001b[0;34m=\u001b[0m\u001b[0ma_range\u001b[0m\u001b[0;34m,\u001b[0m \u001b[0mb_range\u001b[0m\u001b[0;34m=\u001b[0m\u001b[0mb_range\u001b[0m\u001b[0;34m,\u001b[0m \u001b[0mverbose\u001b[0m\u001b[0;34m=\u001b[0m\u001b[0;32mFalse\u001b[0m\u001b[0;34m)\u001b[0m\u001b[0;34m\u001b[0m\u001b[0;34m\u001b[0m\u001b[0m\n\u001b[0m\u001b[1;32m   1088\u001b[0m             \u001b[0mr2s\u001b[0m\u001b[0;34m.\u001b[0m\u001b[0mappend\u001b[0m\u001b[0;34m(\u001b[0m\u001b[0mr2\u001b[0m\u001b[0;34m.\u001b[0m\u001b[0mitem\u001b[0m\u001b[0;34m(\u001b[0m\u001b[0;34m)\u001b[0m\u001b[0;34m)\u001b[0m\u001b[0;34m\u001b[0m\u001b[0;34m\u001b[0m\u001b[0m\n\u001b[1;32m   1089\u001b[0m \u001b[0;34m\u001b[0m\u001b[0m\n",
            "\u001b[0;32m/usr/local/lib/python3.10/dist-packages/kan/KAN.py\u001b[0m in \u001b[0;36mfix_symbolic\u001b[0;34m(self, l, i, j, fun_name, fit_params_bool, a_range, b_range, verbose, random)\u001b[0m\n\u001b[1;32m    439\u001b[0m             \u001b[0mx\u001b[0m \u001b[0;34m=\u001b[0m \u001b[0mself\u001b[0m\u001b[0;34m.\u001b[0m\u001b[0macts\u001b[0m\u001b[0;34m[\u001b[0m\u001b[0ml\u001b[0m\u001b[0;34m]\u001b[0m\u001b[0;34m[\u001b[0m\u001b[0;34m:\u001b[0m\u001b[0;34m,\u001b[0m \u001b[0mi\u001b[0m\u001b[0;34m]\u001b[0m\u001b[0;34m\u001b[0m\u001b[0;34m\u001b[0m\u001b[0m\n\u001b[1;32m    440\u001b[0m             \u001b[0my\u001b[0m \u001b[0;34m=\u001b[0m \u001b[0mself\u001b[0m\u001b[0;34m.\u001b[0m\u001b[0mspline_postacts\u001b[0m\u001b[0;34m[\u001b[0m\u001b[0ml\u001b[0m\u001b[0;34m]\u001b[0m\u001b[0;34m[\u001b[0m\u001b[0;34m:\u001b[0m\u001b[0;34m,\u001b[0m \u001b[0mj\u001b[0m\u001b[0;34m,\u001b[0m \u001b[0mi\u001b[0m\u001b[0;34m]\u001b[0m\u001b[0;34m\u001b[0m\u001b[0;34m\u001b[0m\u001b[0m\n\u001b[0;32m--> 441\u001b[0;31m             \u001b[0mr2\u001b[0m \u001b[0;34m=\u001b[0m \u001b[0mself\u001b[0m\u001b[0;34m.\u001b[0m\u001b[0msymbolic_fun\u001b[0m\u001b[0;34m[\u001b[0m\u001b[0ml\u001b[0m\u001b[0;34m]\u001b[0m\u001b[0;34m.\u001b[0m\u001b[0mfix_symbolic\u001b[0m\u001b[0;34m(\u001b[0m\u001b[0mi\u001b[0m\u001b[0;34m,\u001b[0m \u001b[0mj\u001b[0m\u001b[0;34m,\u001b[0m \u001b[0mfun_name\u001b[0m\u001b[0;34m,\u001b[0m \u001b[0mx\u001b[0m\u001b[0;34m,\u001b[0m \u001b[0my\u001b[0m\u001b[0;34m,\u001b[0m \u001b[0ma_range\u001b[0m\u001b[0;34m=\u001b[0m\u001b[0ma_range\u001b[0m\u001b[0;34m,\u001b[0m \u001b[0mb_range\u001b[0m\u001b[0;34m=\u001b[0m\u001b[0mb_range\u001b[0m\u001b[0;34m,\u001b[0m \u001b[0mverbose\u001b[0m\u001b[0;34m=\u001b[0m\u001b[0mverbose\u001b[0m\u001b[0;34m)\u001b[0m\u001b[0;34m\u001b[0m\u001b[0;34m\u001b[0m\u001b[0m\n\u001b[0m\u001b[1;32m    442\u001b[0m             \u001b[0;32mreturn\u001b[0m \u001b[0mr2\u001b[0m\u001b[0;34m\u001b[0m\u001b[0;34m\u001b[0m\u001b[0m\n\u001b[1;32m    443\u001b[0m \u001b[0;34m\u001b[0m\u001b[0m\n",
            "\u001b[0;32m/usr/local/lib/python3.10/dist-packages/kan/Symbolic_KANLayer.py\u001b[0m in \u001b[0;36mfix_symbolic\u001b[0;34m(self, i, j, fun_name, x, y, random, a_range, b_range, verbose)\u001b[0m\n\u001b[1;32m    220\u001b[0m             \u001b[0;32melse\u001b[0m\u001b[0;34m:\u001b[0m\u001b[0;34m\u001b[0m\u001b[0;34m\u001b[0m\u001b[0m\n\u001b[1;32m    221\u001b[0m                 \u001b[0;31m#initialize from x & y and fun\u001b[0m\u001b[0;34m\u001b[0m\u001b[0;34m\u001b[0m\u001b[0m\n\u001b[0;32m--> 222\u001b[0;31m                 \u001b[0mparams\u001b[0m\u001b[0;34m,\u001b[0m \u001b[0mr2\u001b[0m \u001b[0;34m=\u001b[0m \u001b[0mfit_params\u001b[0m\u001b[0;34m(\u001b[0m\u001b[0mx\u001b[0m\u001b[0;34m,\u001b[0m\u001b[0my\u001b[0m\u001b[0;34m,\u001b[0m\u001b[0mfun\u001b[0m\u001b[0;34m,\u001b[0m \u001b[0ma_range\u001b[0m\u001b[0;34m=\u001b[0m\u001b[0ma_range\u001b[0m\u001b[0;34m,\u001b[0m \u001b[0mb_range\u001b[0m\u001b[0;34m=\u001b[0m\u001b[0mb_range\u001b[0m\u001b[0;34m,\u001b[0m \u001b[0mverbose\u001b[0m\u001b[0;34m=\u001b[0m\u001b[0mverbose\u001b[0m\u001b[0;34m,\u001b[0m \u001b[0mdevice\u001b[0m\u001b[0;34m=\u001b[0m\u001b[0mself\u001b[0m\u001b[0;34m.\u001b[0m\u001b[0mdevice\u001b[0m\u001b[0;34m)\u001b[0m\u001b[0;34m\u001b[0m\u001b[0;34m\u001b[0m\u001b[0m\n\u001b[0m\u001b[1;32m    223\u001b[0m                 \u001b[0mself\u001b[0m\u001b[0;34m.\u001b[0m\u001b[0mfuns\u001b[0m\u001b[0;34m[\u001b[0m\u001b[0mj\u001b[0m\u001b[0;34m]\u001b[0m\u001b[0;34m[\u001b[0m\u001b[0mi\u001b[0m\u001b[0;34m]\u001b[0m \u001b[0;34m=\u001b[0m \u001b[0mfun\u001b[0m\u001b[0;34m\u001b[0m\u001b[0;34m\u001b[0m\u001b[0m\n\u001b[1;32m    224\u001b[0m                 \u001b[0mself\u001b[0m\u001b[0;34m.\u001b[0m\u001b[0maffine\u001b[0m\u001b[0;34m.\u001b[0m\u001b[0mdata\u001b[0m\u001b[0;34m[\u001b[0m\u001b[0mj\u001b[0m\u001b[0;34m]\u001b[0m\u001b[0;34m[\u001b[0m\u001b[0mi\u001b[0m\u001b[0;34m]\u001b[0m \u001b[0;34m=\u001b[0m \u001b[0mparams\u001b[0m\u001b[0;34m\u001b[0m\u001b[0;34m\u001b[0m\u001b[0m\n",
            "\u001b[0;32m/usr/local/lib/python3.10/dist-packages/kan/utils.py\u001b[0m in \u001b[0;36mfit_params\u001b[0;34m(x, y, fun, a_range, b_range, grid_number, iteration, verbose, device)\u001b[0m\n\u001b[1;32m    184\u001b[0m         \u001b[0mb_\u001b[0m \u001b[0;34m=\u001b[0m \u001b[0mtorch\u001b[0m\u001b[0;34m.\u001b[0m\u001b[0mlinspace\u001b[0m\u001b[0;34m(\u001b[0m\u001b[0mb_range\u001b[0m\u001b[0;34m[\u001b[0m\u001b[0;36m0\u001b[0m\u001b[0;34m]\u001b[0m\u001b[0;34m,\u001b[0m \u001b[0mb_range\u001b[0m\u001b[0;34m[\u001b[0m\u001b[0;36m1\u001b[0m\u001b[0;34m]\u001b[0m\u001b[0;34m,\u001b[0m \u001b[0msteps\u001b[0m\u001b[0;34m=\u001b[0m\u001b[0mgrid_number\u001b[0m\u001b[0;34m,\u001b[0m \u001b[0mdevice\u001b[0m\u001b[0;34m=\u001b[0m\u001b[0mdevice\u001b[0m\u001b[0;34m)\u001b[0m\u001b[0;34m\u001b[0m\u001b[0;34m\u001b[0m\u001b[0m\n\u001b[1;32m    185\u001b[0m         \u001b[0ma_grid\u001b[0m\u001b[0;34m,\u001b[0m \u001b[0mb_grid\u001b[0m \u001b[0;34m=\u001b[0m \u001b[0mtorch\u001b[0m\u001b[0;34m.\u001b[0m\u001b[0mmeshgrid\u001b[0m\u001b[0;34m(\u001b[0m\u001b[0ma_\u001b[0m\u001b[0;34m,\u001b[0m \u001b[0mb_\u001b[0m\u001b[0;34m,\u001b[0m \u001b[0mindexing\u001b[0m\u001b[0;34m=\u001b[0m\u001b[0;34m'ij'\u001b[0m\u001b[0;34m)\u001b[0m\u001b[0;34m\u001b[0m\u001b[0;34m\u001b[0m\u001b[0m\n\u001b[0;32m--> 186\u001b[0;31m         \u001b[0mpost_fun\u001b[0m \u001b[0;34m=\u001b[0m \u001b[0mfun\u001b[0m\u001b[0;34m(\u001b[0m\u001b[0ma_grid\u001b[0m\u001b[0;34m[\u001b[0m\u001b[0;32mNone\u001b[0m\u001b[0;34m,\u001b[0m\u001b[0;34m:\u001b[0m\u001b[0;34m,\u001b[0m\u001b[0;34m:\u001b[0m\u001b[0;34m]\u001b[0m \u001b[0;34m*\u001b[0m \u001b[0mx\u001b[0m\u001b[0;34m[\u001b[0m\u001b[0;34m:\u001b[0m\u001b[0;34m,\u001b[0m\u001b[0;32mNone\u001b[0m\u001b[0;34m,\u001b[0m\u001b[0;32mNone\u001b[0m\u001b[0;34m]\u001b[0m \u001b[0;34m+\u001b[0m \u001b[0mb_grid\u001b[0m\u001b[0;34m[\u001b[0m\u001b[0;32mNone\u001b[0m\u001b[0;34m,\u001b[0m\u001b[0;34m:\u001b[0m\u001b[0;34m,\u001b[0m\u001b[0;34m:\u001b[0m\u001b[0;34m]\u001b[0m\u001b[0;34m)\u001b[0m\u001b[0;34m\u001b[0m\u001b[0;34m\u001b[0m\u001b[0m\n\u001b[0m\u001b[1;32m    187\u001b[0m         \u001b[0mx_mean\u001b[0m \u001b[0;34m=\u001b[0m \u001b[0mtorch\u001b[0m\u001b[0;34m.\u001b[0m\u001b[0mmean\u001b[0m\u001b[0;34m(\u001b[0m\u001b[0mpost_fun\u001b[0m\u001b[0;34m,\u001b[0m \u001b[0mdim\u001b[0m\u001b[0;34m=\u001b[0m\u001b[0;34m[\u001b[0m\u001b[0;36m0\u001b[0m\u001b[0;34m]\u001b[0m\u001b[0;34m,\u001b[0m \u001b[0mkeepdim\u001b[0m\u001b[0;34m=\u001b[0m\u001b[0;32mTrue\u001b[0m\u001b[0;34m)\u001b[0m\u001b[0;34m\u001b[0m\u001b[0;34m\u001b[0m\u001b[0m\n\u001b[1;32m    188\u001b[0m         \u001b[0my_mean\u001b[0m \u001b[0;34m=\u001b[0m \u001b[0mtorch\u001b[0m\u001b[0;34m.\u001b[0m\u001b[0mmean\u001b[0m\u001b[0;34m(\u001b[0m\u001b[0my\u001b[0m\u001b[0;34m,\u001b[0m \u001b[0mdim\u001b[0m\u001b[0;34m=\u001b[0m\u001b[0;34m[\u001b[0m\u001b[0;36m0\u001b[0m\u001b[0;34m]\u001b[0m\u001b[0;34m,\u001b[0m \u001b[0mkeepdim\u001b[0m\u001b[0;34m=\u001b[0m\u001b[0;32mTrue\u001b[0m\u001b[0;34m)\u001b[0m\u001b[0;34m\u001b[0m\u001b[0;34m\u001b[0m\u001b[0m\n",
            "\u001b[0;32m/usr/local/lib/python3.10/dist-packages/kan/utils.py\u001b[0m in \u001b[0;36m<lambda>\u001b[0;34m(x)\u001b[0m\n\u001b[1;32m     15\u001b[0m                  \u001b[0;34m'1/x^4'\u001b[0m\u001b[0;34m:\u001b[0m \u001b[0;34m(\u001b[0m\u001b[0;32mlambda\u001b[0m \u001b[0mx\u001b[0m\u001b[0;34m:\u001b[0m \u001b[0;36m1\u001b[0m\u001b[0;34m/\u001b[0m\u001b[0mx\u001b[0m\u001b[0;34m**\u001b[0m\u001b[0;36m4\u001b[0m\u001b[0;34m,\u001b[0m \u001b[0;32mlambda\u001b[0m \u001b[0mx\u001b[0m\u001b[0;34m:\u001b[0m \u001b[0;36m1\u001b[0m\u001b[0;34m/\u001b[0m\u001b[0mx\u001b[0m\u001b[0;34m**\u001b[0m\u001b[0;36m4\u001b[0m\u001b[0;34m)\u001b[0m\u001b[0;34m,\u001b[0m\u001b[0;34m\u001b[0m\u001b[0;34m\u001b[0m\u001b[0m\n\u001b[1;32m     16\u001b[0m                  \u001b[0;34m'sqrt'\u001b[0m\u001b[0;34m:\u001b[0m \u001b[0;34m(\u001b[0m\u001b[0;32mlambda\u001b[0m \u001b[0mx\u001b[0m\u001b[0;34m:\u001b[0m \u001b[0mtorch\u001b[0m\u001b[0;34m.\u001b[0m\u001b[0msqrt\u001b[0m\u001b[0;34m(\u001b[0m\u001b[0mx\u001b[0m\u001b[0;34m)\u001b[0m\u001b[0;34m,\u001b[0m \u001b[0;32mlambda\u001b[0m \u001b[0mx\u001b[0m\u001b[0;34m:\u001b[0m \u001b[0msympy\u001b[0m\u001b[0;34m.\u001b[0m\u001b[0msqrt\u001b[0m\u001b[0;34m(\u001b[0m\u001b[0mx\u001b[0m\u001b[0;34m)\u001b[0m\u001b[0;34m)\u001b[0m\u001b[0;34m,\u001b[0m\u001b[0;34m\u001b[0m\u001b[0;34m\u001b[0m\u001b[0m\n\u001b[0;32m---> 17\u001b[0;31m                  \u001b[0;34m'1/sqrt(x)'\u001b[0m\u001b[0;34m:\u001b[0m \u001b[0;34m(\u001b[0m\u001b[0;32mlambda\u001b[0m \u001b[0mx\u001b[0m\u001b[0;34m:\u001b[0m \u001b[0;36m1\u001b[0m\u001b[0;34m/\u001b[0m\u001b[0mtorch\u001b[0m\u001b[0;34m.\u001b[0m\u001b[0msqrt\u001b[0m\u001b[0;34m(\u001b[0m\u001b[0mx\u001b[0m\u001b[0;34m)\u001b[0m\u001b[0;34m,\u001b[0m \u001b[0;32mlambda\u001b[0m \u001b[0mx\u001b[0m\u001b[0;34m:\u001b[0m \u001b[0;36m1\u001b[0m\u001b[0;34m/\u001b[0m\u001b[0msympy\u001b[0m\u001b[0;34m.\u001b[0m\u001b[0msqrt\u001b[0m\u001b[0;34m(\u001b[0m\u001b[0mx\u001b[0m\u001b[0;34m)\u001b[0m\u001b[0;34m)\u001b[0m\u001b[0;34m,\u001b[0m\u001b[0;34m\u001b[0m\u001b[0;34m\u001b[0m\u001b[0m\n\u001b[0m\u001b[1;32m     18\u001b[0m                  \u001b[0;34m'exp'\u001b[0m\u001b[0;34m:\u001b[0m \u001b[0;34m(\u001b[0m\u001b[0;32mlambda\u001b[0m \u001b[0mx\u001b[0m\u001b[0;34m:\u001b[0m \u001b[0mtorch\u001b[0m\u001b[0;34m.\u001b[0m\u001b[0mexp\u001b[0m\u001b[0;34m(\u001b[0m\u001b[0mx\u001b[0m\u001b[0;34m)\u001b[0m\u001b[0;34m,\u001b[0m \u001b[0;32mlambda\u001b[0m \u001b[0mx\u001b[0m\u001b[0;34m:\u001b[0m \u001b[0msympy\u001b[0m\u001b[0;34m.\u001b[0m\u001b[0mexp\u001b[0m\u001b[0;34m(\u001b[0m\u001b[0mx\u001b[0m\u001b[0;34m)\u001b[0m\u001b[0;34m)\u001b[0m\u001b[0;34m,\u001b[0m\u001b[0;34m\u001b[0m\u001b[0;34m\u001b[0m\u001b[0m\n\u001b[1;32m     19\u001b[0m                  \u001b[0;34m'log'\u001b[0m\u001b[0;34m:\u001b[0m \u001b[0;34m(\u001b[0m\u001b[0;32mlambda\u001b[0m \u001b[0mx\u001b[0m\u001b[0;34m:\u001b[0m \u001b[0mtorch\u001b[0m\u001b[0;34m.\u001b[0m\u001b[0mlog\u001b[0m\u001b[0;34m(\u001b[0m\u001b[0mx\u001b[0m\u001b[0;34m)\u001b[0m\u001b[0;34m,\u001b[0m \u001b[0;32mlambda\u001b[0m \u001b[0mx\u001b[0m\u001b[0;34m:\u001b[0m \u001b[0msympy\u001b[0m\u001b[0;34m.\u001b[0m\u001b[0mlog\u001b[0m\u001b[0;34m(\u001b[0m\u001b[0mx\u001b[0m\u001b[0;34m)\u001b[0m\u001b[0;34m)\u001b[0m\u001b[0;34m,\u001b[0m\u001b[0;34m\u001b[0m\u001b[0;34m\u001b[0m\u001b[0m\n",
            "\u001b[0;32m/usr/local/lib/python3.10/dist-packages/torch/_tensor.py\u001b[0m in \u001b[0;36mwrapped\u001b[0;34m(*args, **kwargs)\u001b[0m\n\u001b[1;32m     38\u001b[0m             \u001b[0;32mif\u001b[0m \u001b[0mhas_torch_function\u001b[0m\u001b[0;34m(\u001b[0m\u001b[0margs\u001b[0m\u001b[0;34m)\u001b[0m\u001b[0;34m:\u001b[0m\u001b[0;34m\u001b[0m\u001b[0;34m\u001b[0m\u001b[0m\n\u001b[1;32m     39\u001b[0m                 \u001b[0;32mreturn\u001b[0m \u001b[0mhandle_torch_function\u001b[0m\u001b[0;34m(\u001b[0m\u001b[0mwrapped\u001b[0m\u001b[0;34m,\u001b[0m \u001b[0margs\u001b[0m\u001b[0;34m,\u001b[0m \u001b[0;34m*\u001b[0m\u001b[0margs\u001b[0m\u001b[0;34m,\u001b[0m \u001b[0;34m**\u001b[0m\u001b[0mkwargs\u001b[0m\u001b[0;34m)\u001b[0m\u001b[0;34m\u001b[0m\u001b[0;34m\u001b[0m\u001b[0m\n\u001b[0;32m---> 40\u001b[0;31m             \u001b[0;32mreturn\u001b[0m \u001b[0mf\u001b[0m\u001b[0;34m(\u001b[0m\u001b[0;34m*\u001b[0m\u001b[0margs\u001b[0m\u001b[0;34m,\u001b[0m \u001b[0;34m**\u001b[0m\u001b[0mkwargs\u001b[0m\u001b[0;34m)\u001b[0m\u001b[0;34m\u001b[0m\u001b[0;34m\u001b[0m\u001b[0m\n\u001b[0m\u001b[1;32m     41\u001b[0m         \u001b[0;32mexcept\u001b[0m \u001b[0mTypeError\u001b[0m\u001b[0;34m:\u001b[0m\u001b[0;34m\u001b[0m\u001b[0;34m\u001b[0m\u001b[0m\n\u001b[1;32m     42\u001b[0m             \u001b[0;32mreturn\u001b[0m \u001b[0mNotImplemented\u001b[0m\u001b[0;34m\u001b[0m\u001b[0;34m\u001b[0m\u001b[0m\n",
            "\u001b[0;31mKeyboardInterrupt\u001b[0m: "
          ]
        }
      ]
    },
    {
      "cell_type": "code",
      "source": [
        "classes = list(set(sf_mat.reshape(-1,)))\n",
        "n_class = len(classes)\n",
        "\n",
        "colors = np.random.rand(n_class,4)\n",
        "dic = {}\n",
        "for i in range(n_class):\n",
        "    dic[classes[i]] = colors[i]\n",
        "\n",
        "\n",
        "img = np.zeros((num,num,4))\n",
        "for i in range(num):\n",
        "    for j in range(num):\n",
        "        img[i][j] = dic[sf_mat[i][j]]\n",
        "plt.imshow(img)"
      ],
      "metadata": {
        "colab": {
          "base_uri": "https://localhost:8080/",
          "height": 447
        },
        "id": "C5QQZKyyW0r6",
        "outputId": "0b1d73b7-0e1e-4fb2-aa8b-f7d52786e4da"
      },
      "execution_count": 27,
      "outputs": [
        {
          "output_type": "execute_result",
          "data": {
            "text/plain": [
              "<matplotlib.image.AxesImage at 0x7fef9aec4d30>"
            ]
          },
          "metadata": {},
          "execution_count": 27
        },
        {
          "output_type": "display_data",
          "data": {
            "text/plain": [
              "<Figure size 640x480 with 1 Axes>"
            ],
            "image/png": "[encoded data removed]"
          },
          "metadata": {}
        }
      ]
    },
    {
      "cell_type": "code",
      "source": [
        "# we have used the default symbolic library whch contains the following functions\n",
        "SYMBOLIC_LIB.keys()"
      ],
      "metadata": {
        "colab": {
          "base_uri": "https://localhost:8080/"
        },
        "id": "nvggc2UsW_pQ",
        "outputId": "552038ff-9e2a-42f4-c0b9-5b0c80b7235a"
      },
      "execution_count": 28,
      "outputs": [
        {
          "output_type": "execute_result",
          "data": {
            "text/plain": [
              "dict_keys(['x', 'x^2', 'x^3', 'x^4', '1/x', '1/x^2', '1/x^3', '1/x^4', 'sqrt', '1/sqrt(x)', 'exp', 'log', 'abs', 'sin', 'tan', 'tanh', 'sigmoid', 'sgn', 'arcsin', 'arctan', 'arctanh', '0', 'gaussian', 'cosh'])"
            ]
          },
          "metadata": {},
          "execution_count": 28
        }
      ]
    },
    {
      "cell_type": "code",
      "source": [
        "# we may constrain to a smaller library (pass as parameter \"lib=lib\" in suggest_symbolic)\n",
        "lib = ['exp', 'x^2', 'sin']\n",
        "def mix(a, b, bound=1):\n",
        "    num_pts = 101\n",
        "    x = torch.linspace(-bound,bound,steps=num_pts)\n",
        "    x = x[:,None]\n",
        "    y = a * torch.sin(x) + b * x**2 + (1-a-b) * torch.exp(x)\n",
        "    dataset = {}\n",
        "    dataset['train_input'] = dataset['test_input'] = x\n",
        "    dataset['train_label'] = dataset['test_label'] = y\n",
        "    model = KAN(width=[1,1], grid=10, k=3, seed=0, grid_range=(-bound,bound))\n",
        "    model.train(dataset, opt=\"LBFGS\", steps=20)\n",
        "    return model.suggest_symbolic(0,0,0,lib=lib)[0]"
      ],
      "metadata": {
        "id": "_fPRY1AvXAA_"
      },
      "execution_count": 29,
      "outputs": []
    },
    {
      "cell_type": "code",
      "source": [
        "# we can redo the analysis for a more contrained (bound) region. The phase diagram becomes even more \"fractal\"\n",
        "num = 11\n",
        "a_arr = np.linspace(0,1,num=num)\n",
        "b_arr = np.linspace(0,1,num=num)\n",
        "sf_mat = np.empty((num,num), dtype='U8')\n",
        "\n",
        "for i in range(num):\n",
        "    for j in range(num):\n",
        "        a = a_arr[i]; b = b_arr[j]\n",
        "        sf_mat[i,j] = mix(a, b, bound=0.3)"
      ],
      "metadata": {
        "colab": {
          "base_uri": "https://localhost:8080/",
          "height": 1000
        },
        "id": "Mi9eDjH-XCYj",
        "outputId": "02971f3e-0a14-42d3-dfec-375f3e1420ff"
      },
      "execution_count": 30,
      "outputs": [
        {
          "output_type": "stream",
          "name": "stderr",
          "text": [
            "train loss: 4.28e-08 | test loss: 4.28e-08 | reg: 2.58e-01 : 100%|██| 20/20 [00:01<00:00, 15.74it/s]\n"
          ]
        },
        {
          "output_type": "stream",
          "name": "stdout",
          "text": [
            "function , r2\n",
            "exp , 1.0000003576278687\n",
            "x^2 , 0.9999844431877136\n",
            "sin , 0.9999198913574219\n"
          ]
        },
        {
          "output_type": "stream",
          "name": "stderr",
          "text": [
            "train loss: 6.22e-08 | test loss: 6.22e-08 | reg: 2.30e-01 : 100%|██| 20/20 [00:01<00:00, 19.59it/s]\n"
          ]
        },
        {
          "output_type": "stream",
          "name": "stdout",
          "text": [
            "function , r2\n",
            "exp , 0.9999967217445374\n",
            "x^2 , 0.999984860420227\n",
            "sin , 0.999906063079834\n"
          ]
        },
        {
          "output_type": "stream",
          "name": "stderr",
          "text": [
            "train loss: 8.15e-08 | test loss: 8.15e-08 | reg: 2.03e-01 : 100%|██| 20/20 [00:01<00:00, 19.41it/s]\n"
          ]
        },
        {
          "output_type": "stream",
          "name": "stdout",
          "text": [
            "function , r2\n",
            "x^2 , 0.999984860420227\n",
            "exp , 0.9999766945838928\n",
            "sin , 0.9998868703842163\n"
          ]
        },
        {
          "output_type": "stream",
          "name": "stderr",
          "text": [
            "train loss: 4.40e-08 | test loss: 4.40e-08 | reg: 1.77e-01 : 100%|██| 20/20 [00:00<00:00, 22.29it/s]\n"
          ]
        },
        {
          "output_type": "stream",
          "name": "stdout",
          "text": [
            "function , r2\n",
            "x^2 , 0.999984622001648\n",
            "exp , 0.9999104142189026\n",
            "sin , 0.9998597502708435\n"
          ]
        },
        {
          "output_type": "stream",
          "name": "stderr",
          "text": [
            "train loss: 2.34e-07 | test loss: 2.34e-07 | reg: 1.50e-01 : 100%|██| 20/20 [00:00<00:00, 28.39it/s]\n"
          ]
        },
        {
          "output_type": "stream",
          "name": "stdout",
          "text": [
            "function , r2\n",
            "x^2 , 0.999984860420227\n",
            "sin , 0.9998196959495544\n",
            "exp , 0.9997115135192871\n"
          ]
        },
        {
          "output_type": "stream",
          "name": "stderr",
          "text": [
            "train loss: 2.73e-08 | test loss: 2.73e-08 | reg: 1.24e-01 : 100%|██| 20/20 [00:00<00:00, 23.69it/s]\n"
          ]
        },
        {
          "output_type": "stream",
          "name": "stdout",
          "text": [
            "function , r2\n",
            "x^2 , 0.9999853372573853\n",
            "sin , 0.9997580051422119\n",
            "exp , 0.9991053938865662\n"
          ]
        },
        {
          "output_type": "stream",
          "name": "stderr",
          "text": [
            "train loss: 2.46e-08 | test loss: 2.46e-08 | reg: 9.83e-02 : 100%|██| 20/20 [00:00<00:00, 24.60it/s]\n"
          ]
        },
        {
          "output_type": "stream",
          "name": "stdout",
          "text": [
            "function , r2\n",
            "x^2 , 0.999985933303833\n",
            "sin , 0.9996548295021057\n",
            "exp , 0.9971044659614563\n"
          ]
        },
        {
          "output_type": "stream",
          "name": "stderr",
          "text": [
            "train loss: 4.42e-08 | test loss: 4.42e-08 | reg: 7.39e-02 : 100%|██| 20/20 [00:00<00:00, 21.44it/s]\n"
          ]
        },
        {
          "output_type": "stream",
          "name": "stdout",
          "text": [
            "function , r2\n",
            "x^2 , 0.9999868273735046\n",
            "sin , 0.9994733929634094\n",
            "exp , 0.9895645380020142\n"
          ]
        },
        {
          "output_type": "stream",
          "name": "stderr",
          "text": [
            "train loss: 1.62e-08 | test loss: 1.62e-08 | reg: 5.19e-02 : 100%|██| 20/20 [00:00<00:00, 23.45it/s]\n"
          ]
        },
        {
          "output_type": "stream",
          "name": "stdout",
          "text": [
            "function , r2\n",
            "x^2 , 0.9999895095825195\n",
            "sin , 0.9991207718849182\n",
            "exp , 0.9559775590896606\n"
          ]
        },
        {
          "output_type": "stream",
          "name": "stderr",
          "text": [
            "train loss: 1.63e-08 | test loss: 1.63e-08 | reg: 3.99e-02 : 100%|██| 20/20 [00:00<00:00, 25.42it/s]\n"
          ]
        },
        {
          "output_type": "stream",
          "name": "stdout",
          "text": [
            "function , r2\n",
            "x^2 , 0.999992847442627\n",
            "sin , 0.9987167119979858\n",
            "exp , 0.7906888723373413\n"
          ]
        },
        {
          "output_type": "stream",
          "name": "stderr",
          "text": [
            "train loss: 1.14e-08 | test loss: 1.14e-08 | reg: 3.92e-02 : 100%|██| 20/20 [00:00<00:00, 21.20it/s]\n"
          ]
        },
        {
          "output_type": "stream",
          "name": "stdout",
          "text": [
            "function , r2\n",
            "x^2 , 0.9999985098838806\n",
            "sin , 0.9975488185882568\n",
            "exp , 0.2695852518081665\n"
          ]
        },
        {
          "output_type": "stream",
          "name": "stderr",
          "text": [
            "train loss: 6.97e-08 | test loss: 6.97e-08 | reg: 2.55e-01 : 100%|██| 20/20 [00:01<00:00, 15.95it/s]\n"
          ]
        },
        {
          "output_type": "stream",
          "name": "stdout",
          "text": [
            "function , r2\n",
            "exp , 1.0000005960464478\n",
            "x^2 , 0.9999902844429016\n",
            "sin , 0.9999335408210754\n"
          ]
        },
        {
          "output_type": "stream",
          "name": "stderr",
          "text": [
            "train loss: 5.20e-08 | test loss: 5.20e-08 | reg: 2.28e-01 : 100%|██| 20/20 [00:01<00:00, 14.37it/s]\n"
          ]
        },
        {
          "output_type": "stream",
          "name": "stdout",
          "text": [
            "function , r2\n",
            "exp , 0.9999971389770508\n",
            "x^2 , 0.9999908208847046\n",
            "sin , 0.999921977519989\n"
          ]
        },
        {
          "output_type": "stream",
          "name": "stderr",
          "text": [
            "train loss: 5.50e-08 | test loss: 5.50e-08 | reg: 2.02e-01 : 100%|██| 20/20 [00:01<00:00, 17.82it/s]\n"
          ]
        },
        {
          "output_type": "stream",
          "name": "stdout",
          "text": [
            "function , r2\n",
            "x^2 , 0.9999914765357971\n",
            "exp , 0.9999803304672241\n",
            "sin , 0.9999063611030579\n"
          ]
        },
        {
          "output_type": "stream",
          "name": "stderr",
          "text": [
            "train loss: 4.01e-08 | test loss: 4.01e-08 | reg: 1.75e-01 : 100%|██| 20/20 [00:00<00:00, 20.73it/s]\n"
          ]
        },
        {
          "output_type": "stream",
          "name": "stdout",
          "text": [
            "function , r2\n",
            "x^2 , 0.999992311000824\n",
            "exp , 0.9999251365661621\n",
            "sin , 0.9998840689659119\n"
          ]
        },
        {
          "output_type": "stream",
          "name": "stderr",
          "text": [
            "train loss: 3.09e-07 | test loss: 3.09e-07 | reg: 1.49e-01 : 100%|██| 20/20 [00:00<00:00, 28.95it/s]\n"
          ]
        },
        {
          "output_type": "stream",
          "name": "stdout",
          "text": [
            "function , r2\n",
            "x^2 , 0.9999935030937195\n",
            "sin , 0.9998512864112854\n",
            "exp , 0.9997588396072388\n"
          ]
        },
        {
          "output_type": "stream",
          "name": "stderr",
          "text": [
            "train loss: 4.95e-08 | test loss: 4.95e-08 | reg: 1.23e-01 : 100%|██| 20/20 [00:00<00:00, 21.28it/s]\n"
          ]
        },
        {
          "output_type": "stream",
          "name": "stdout",
          "text": [
            "function , r2\n",
            "x^2 , 0.9999949932098389\n",
            "sin , 0.9997997283935547\n",
            "exp , 0.9992485046386719\n"
          ]
        },
        {
          "output_type": "stream",
          "name": "stderr",
          "text": [
            "train loss: 4.92e-08 | test loss: 4.92e-08 | reg: 9.78e-02 : 100%|██| 20/20 [00:00<00:00, 20.87it/s]\n"
          ]
        },
        {
          "output_type": "stream",
          "name": "stdout",
          "text": [
            "function , r2\n",
            "x^2 , 0.9999967217445374\n",
            "sin , 0.9997135400772095\n",
            "exp , 0.9975458383560181\n"
          ]
        },
        {
          "output_type": "stream",
          "name": "stderr",
          "text": [
            "train loss: 1.76e-08 | test loss: 1.76e-08 | reg: 7.41e-02 : 100%|██| 20/20 [00:00<00:00, 22.62it/s]\n"
          ]
        },
        {
          "output_type": "stream",
          "name": "stdout",
          "text": [
            "function , r2\n",
            "x^2 , 0.9999988675117493\n",
            "sin , 0.9995579719543457\n",
            "exp , 0.9909899234771729\n"
          ]
        },
        {
          "output_type": "stream",
          "name": "stderr",
          "text": [
            "train loss: 1.28e-08 | test loss: 1.28e-08 | reg: 5.31e-02 : 100%|██| 20/20 [00:00<00:00, 21.15it/s]\n"
          ]
        },
        {
          "output_type": "stream",
          "name": "stdout",
          "text": [
            "function , r2\n",
            "x^2 , 0.9999993443489075\n",
            "sin , 0.9992666244506836\n",
            "exp , 0.9605287909507751\n"
          ]
        },
        {
          "output_type": "stream",
          "name": "stderr",
          "text": [
            "train loss: 9.99e-09 | test loss: 9.99e-09 | reg: 4.02e-02 : 100%|██| 20/20 [00:00<00:00, 20.69it/s]\n"
          ]
        },
        {
          "output_type": "stream",
          "name": "stdout",
          "text": [
            "function , r2\n",
            "x^2 , 0.999991774559021\n",
            "sin , 0.9988726377487183\n",
            "exp , 0.8001174926757812\n"
          ]
        },
        {
          "output_type": "stream",
          "name": "stderr",
          "text": [
            "train loss: 1.06e-08 | test loss: 1.06e-08 | reg: 4.05e-02 : 100%|██| 20/20 [00:00<00:00, 21.64it/s]\n"
          ]
        },
        {
          "output_type": "stream",
          "name": "stdout",
          "text": [
            "function , r2\n",
            "x^2 , 0.9999648928642273\n",
            "sin , 0.9978433847427368\n",
            "exp , 0.28145459294319153\n"
          ]
        },
        {
          "output_type": "stream",
          "name": "stderr",
          "text": [
            "train loss: 4.82e-08 | test loss: 4.82e-08 | reg: 2.53e-01 : 100%|██| 20/20 [00:00<00:00, 23.73it/s]\n"
          ]
        },
        {
          "output_type": "stream",
          "name": "stdout",
          "text": [
            "function , r2\n",
            "exp , 1.0000004768371582\n",
            "x^2 , 0.9999946355819702\n",
            "sin , 0.9999455809593201\n"
          ]
        },
        {
          "output_type": "stream",
          "name": "stderr",
          "text": [
            "train loss: 4.15e-08 | test loss: 4.15e-08 | reg: 2.26e-01 : 100%|██| 20/20 [00:01<00:00, 16.72it/s]\n"
          ]
        },
        {
          "output_type": "error",
          "ename": "KeyboardInterrupt",
          "evalue": "",
          "traceback": [
            "\u001b[0;31m---------------------------------------------------------------------------\u001b[0m",
            "\u001b[0;31mKeyboardInterrupt\u001b[0m                         Traceback (most recent call last)",
            "\u001b[0;32m<ipython-input-30-324805eb45b5>\u001b[0m in \u001b[0;36m<cell line: 7>\u001b[0;34m()\u001b[0m\n\u001b[1;32m      8\u001b[0m     \u001b[0;32mfor\u001b[0m \u001b[0mj\u001b[0m \u001b[0;32min\u001b[0m \u001b[0mrange\u001b[0m\u001b[0;34m(\u001b[0m\u001b[0mnum\u001b[0m\u001b[0;34m)\u001b[0m\u001b[0;34m:\u001b[0m\u001b[0;34m\u001b[0m\u001b[0;34m\u001b[0m\u001b[0m\n\u001b[1;32m      9\u001b[0m         \u001b[0ma\u001b[0m \u001b[0;34m=\u001b[0m \u001b[0ma_arr\u001b[0m\u001b[0;34m[\u001b[0m\u001b[0mi\u001b[0m\u001b[0;34m]\u001b[0m\u001b[0;34m;\u001b[0m \u001b[0mb\u001b[0m \u001b[0;34m=\u001b[0m \u001b[0mb_arr\u001b[0m\u001b[0;34m[\u001b[0m\u001b[0mj\u001b[0m\u001b[0;34m]\u001b[0m\u001b[0;34m\u001b[0m\u001b[0;34m\u001b[0m\u001b[0m\n\u001b[0;32m---> 10\u001b[0;31m         \u001b[0msf_mat\u001b[0m\u001b[0;34m[\u001b[0m\u001b[0mi\u001b[0m\u001b[0;34m,\u001b[0m\u001b[0mj\u001b[0m\u001b[0;34m]\u001b[0m \u001b[0;34m=\u001b[0m \u001b[0mmix\u001b[0m\u001b[0;34m(\u001b[0m\u001b[0ma\u001b[0m\u001b[0;34m,\u001b[0m \u001b[0mb\u001b[0m\u001b[0;34m,\u001b[0m \u001b[0mbound\u001b[0m\u001b[0;34m=\u001b[0m\u001b[0;36m0.3\u001b[0m\u001b[0;34m)\u001b[0m\u001b[0;34m\u001b[0m\u001b[0;34m\u001b[0m\u001b[0m\n\u001b[0m",
            "\u001b[0;32m<ipython-input-29-78e97d092abd>\u001b[0m in \u001b[0;36mmix\u001b[0;34m(a, b, bound)\u001b[0m\n\u001b[1;32m     11\u001b[0m     \u001b[0mmodel\u001b[0m \u001b[0;34m=\u001b[0m \u001b[0mKAN\u001b[0m\u001b[0;34m(\u001b[0m\u001b[0mwidth\u001b[0m\u001b[0;34m=\u001b[0m\u001b[0;34m[\u001b[0m\u001b[0;36m1\u001b[0m\u001b[0;34m,\u001b[0m\u001b[0;36m1\u001b[0m\u001b[0;34m]\u001b[0m\u001b[0;34m,\u001b[0m \u001b[0mgrid\u001b[0m\u001b[0;34m=\u001b[0m\u001b[0;36m10\u001b[0m\u001b[0;34m,\u001b[0m \u001b[0mk\u001b[0m\u001b[0;34m=\u001b[0m\u001b[0;36m3\u001b[0m\u001b[0;34m,\u001b[0m \u001b[0mseed\u001b[0m\u001b[0;34m=\u001b[0m\u001b[0;36m0\u001b[0m\u001b[0;34m,\u001b[0m \u001b[0mgrid_range\u001b[0m\u001b[0;34m=\u001b[0m\u001b[0;34m(\u001b[0m\u001b[0;34m-\u001b[0m\u001b[0mbound\u001b[0m\u001b[0;34m,\u001b[0m\u001b[0mbound\u001b[0m\u001b[0;34m)\u001b[0m\u001b[0;34m)\u001b[0m\u001b[0;34m\u001b[0m\u001b[0;34m\u001b[0m\u001b[0m\n\u001b[1;32m     12\u001b[0m     \u001b[0mmodel\u001b[0m\u001b[0;34m.\u001b[0m\u001b[0mtrain\u001b[0m\u001b[0;34m(\u001b[0m\u001b[0mdataset\u001b[0m\u001b[0;34m,\u001b[0m \u001b[0mopt\u001b[0m\u001b[0;34m=\u001b[0m\u001b[0;34m\"LBFGS\"\u001b[0m\u001b[0;34m,\u001b[0m \u001b[0msteps\u001b[0m\u001b[0;34m=\u001b[0m\u001b[0;36m20\u001b[0m\u001b[0;34m)\u001b[0m\u001b[0;34m\u001b[0m\u001b[0;34m\u001b[0m\u001b[0m\n\u001b[0;32m---> 13\u001b[0;31m     \u001b[0;32mreturn\u001b[0m \u001b[0mmodel\u001b[0m\u001b[0;34m.\u001b[0m\u001b[0msuggest_symbolic\u001b[0m\u001b[0;34m(\u001b[0m\u001b[0;36m0\u001b[0m\u001b[0;34m,\u001b[0m\u001b[0;36m0\u001b[0m\u001b[0;34m,\u001b[0m\u001b[0;36m0\u001b[0m\u001b[0;34m,\u001b[0m\u001b[0mlib\u001b[0m\u001b[0;34m=\u001b[0m\u001b[0mlib\u001b[0m\u001b[0;34m)\u001b[0m\u001b[0;34m[\u001b[0m\u001b[0;36m0\u001b[0m\u001b[0;34m]\u001b[0m\u001b[0;34m\u001b[0m\u001b[0;34m\u001b[0m\u001b[0m\n\u001b[0m",
            "\u001b[0;32m/usr/local/lib/python3.10/dist-packages/kan/KAN.py\u001b[0m in \u001b[0;36msuggest_symbolic\u001b[0;34m(self, l, i, j, a_range, b_range, lib, topk, verbose)\u001b[0m\n\u001b[1;32m   1085\u001b[0m \u001b[0;34m\u001b[0m\u001b[0m\n\u001b[1;32m   1086\u001b[0m         \u001b[0;32mfor\u001b[0m \u001b[0;34m(\u001b[0m\u001b[0mname\u001b[0m\u001b[0;34m,\u001b[0m \u001b[0mfun\u001b[0m\u001b[0;34m)\u001b[0m \u001b[0;32min\u001b[0m \u001b[0msymbolic_lib\u001b[0m\u001b[0;34m.\u001b[0m\u001b[0mitems\u001b[0m\u001b[0;34m(\u001b[0m\u001b[0;34m)\u001b[0m\u001b[0;34m:\u001b[0m\u001b[0;34m\u001b[0m\u001b[0;34m\u001b[0m\u001b[0m\n\u001b[0;32m-> 1087\u001b[0;31m             \u001b[0mr2\u001b[0m \u001b[0;34m=\u001b[0m \u001b[0mself\u001b[0m\u001b[0;34m.\u001b[0m\u001b[0mfix_symbolic\u001b[0m\u001b[0;34m(\u001b[0m\u001b[0ml\u001b[0m\u001b[0;34m,\u001b[0m \u001b[0mi\u001b[0m\u001b[0;34m,\u001b[0m \u001b[0mj\u001b[0m\u001b[0;34m,\u001b[0m \u001b[0mname\u001b[0m\u001b[0;34m,\u001b[0m \u001b[0ma_range\u001b[0m\u001b[0;34m=\u001b[0m\u001b[0ma_range\u001b[0m\u001b[0;34m,\u001b[0m \u001b[0mb_range\u001b[0m\u001b[0;34m=\u001b[0m\u001b[0mb_range\u001b[0m\u001b[0;34m,\u001b[0m \u001b[0mverbose\u001b[0m\u001b[0;34m=\u001b[0m\u001b[0;32mFalse\u001b[0m\u001b[0;34m)\u001b[0m\u001b[0;34m\u001b[0m\u001b[0;34m\u001b[0m\u001b[0m\n\u001b[0m\u001b[1;32m   1088\u001b[0m             \u001b[0mr2s\u001b[0m\u001b[0;34m.\u001b[0m\u001b[0mappend\u001b[0m\u001b[0;34m(\u001b[0m\u001b[0mr2\u001b[0m\u001b[0;34m.\u001b[0m\u001b[0mitem\u001b[0m\u001b[0;34m(\u001b[0m\u001b[0;34m)\u001b[0m\u001b[0;34m)\u001b[0m\u001b[0;34m\u001b[0m\u001b[0;34m\u001b[0m\u001b[0m\n\u001b[1;32m   1089\u001b[0m \u001b[0;34m\u001b[0m\u001b[0m\n",
            "\u001b[0;32m/usr/local/lib/python3.10/dist-packages/kan/KAN.py\u001b[0m in \u001b[0;36mfix_symbolic\u001b[0;34m(self, l, i, j, fun_name, fit_params_bool, a_range, b_range, verbose, random)\u001b[0m\n\u001b[1;32m    439\u001b[0m             \u001b[0mx\u001b[0m \u001b[0;34m=\u001b[0m \u001b[0mself\u001b[0m\u001b[0;34m.\u001b[0m\u001b[0macts\u001b[0m\u001b[0;34m[\u001b[0m\u001b[0ml\u001b[0m\u001b[0;34m]\u001b[0m\u001b[0;34m[\u001b[0m\u001b[0;34m:\u001b[0m\u001b[0;34m,\u001b[0m \u001b[0mi\u001b[0m\u001b[0;34m]\u001b[0m\u001b[0;34m\u001b[0m\u001b[0;34m\u001b[0m\u001b[0m\n\u001b[1;32m    440\u001b[0m             \u001b[0my\u001b[0m \u001b[0;34m=\u001b[0m \u001b[0mself\u001b[0m\u001b[0;34m.\u001b[0m\u001b[0mspline_postacts\u001b[0m\u001b[0;34m[\u001b[0m\u001b[0ml\u001b[0m\u001b[0;34m]\u001b[0m\u001b[0;34m[\u001b[0m\u001b[0;34m:\u001b[0m\u001b[0;34m,\u001b[0m \u001b[0mj\u001b[0m\u001b[0;34m,\u001b[0m \u001b[0mi\u001b[0m\u001b[0;34m]\u001b[0m\u001b[0;34m\u001b[0m\u001b[0;34m\u001b[0m\u001b[0m\n\u001b[0;32m--> 441\u001b[0;31m             \u001b[0mr2\u001b[0m \u001b[0;34m=\u001b[0m \u001b[0mself\u001b[0m\u001b[0;34m.\u001b[0m\u001b[0msymbolic_fun\u001b[0m\u001b[0;34m[\u001b[0m\u001b[0ml\u001b[0m\u001b[0;34m]\u001b[0m\u001b[0;34m.\u001b[0m\u001b[0mfix_symbolic\u001b[0m\u001b[0;34m(\u001b[0m\u001b[0mi\u001b[0m\u001b[0;34m,\u001b[0m \u001b[0mj\u001b[0m\u001b[0;34m,\u001b[0m \u001b[0mfun_name\u001b[0m\u001b[0;34m,\u001b[0m \u001b[0mx\u001b[0m\u001b[0;34m,\u001b[0m \u001b[0my\u001b[0m\u001b[0;34m,\u001b[0m \u001b[0ma_range\u001b[0m\u001b[0;34m=\u001b[0m\u001b[0ma_range\u001b[0m\u001b[0;34m,\u001b[0m \u001b[0mb_range\u001b[0m\u001b[0;34m=\u001b[0m\u001b[0mb_range\u001b[0m\u001b[0;34m,\u001b[0m \u001b[0mverbose\u001b[0m\u001b[0;34m=\u001b[0m\u001b[0mverbose\u001b[0m\u001b[0;34m)\u001b[0m\u001b[0;34m\u001b[0m\u001b[0;34m\u001b[0m\u001b[0m\n\u001b[0m\u001b[1;32m    442\u001b[0m             \u001b[0;32mreturn\u001b[0m \u001b[0mr2\u001b[0m\u001b[0;34m\u001b[0m\u001b[0;34m\u001b[0m\u001b[0m\n\u001b[1;32m    443\u001b[0m \u001b[0;34m\u001b[0m\u001b[0m\n",
            "\u001b[0;32m/usr/local/lib/python3.10/dist-packages/kan/Symbolic_KANLayer.py\u001b[0m in \u001b[0;36mfix_symbolic\u001b[0;34m(self, i, j, fun_name, x, y, random, a_range, b_range, verbose)\u001b[0m\n\u001b[1;32m    220\u001b[0m             \u001b[0;32melse\u001b[0m\u001b[0;34m:\u001b[0m\u001b[0;34m\u001b[0m\u001b[0;34m\u001b[0m\u001b[0m\n\u001b[1;32m    221\u001b[0m                 \u001b[0;31m#initialize from x & y and fun\u001b[0m\u001b[0;34m\u001b[0m\u001b[0;34m\u001b[0m\u001b[0m\n\u001b[0;32m--> 222\u001b[0;31m                 \u001b[0mparams\u001b[0m\u001b[0;34m,\u001b[0m \u001b[0mr2\u001b[0m \u001b[0;34m=\u001b[0m \u001b[0mfit_params\u001b[0m\u001b[0;34m(\u001b[0m\u001b[0mx\u001b[0m\u001b[0;34m,\u001b[0m\u001b[0my\u001b[0m\u001b[0;34m,\u001b[0m\u001b[0mfun\u001b[0m\u001b[0;34m,\u001b[0m \u001b[0ma_range\u001b[0m\u001b[0;34m=\u001b[0m\u001b[0ma_range\u001b[0m\u001b[0;34m,\u001b[0m \u001b[0mb_range\u001b[0m\u001b[0;34m=\u001b[0m\u001b[0mb_range\u001b[0m\u001b[0;34m,\u001b[0m \u001b[0mverbose\u001b[0m\u001b[0;34m=\u001b[0m\u001b[0mverbose\u001b[0m\u001b[0;34m,\u001b[0m \u001b[0mdevice\u001b[0m\u001b[0;34m=\u001b[0m\u001b[0mself\u001b[0m\u001b[0;34m.\u001b[0m\u001b[0mdevice\u001b[0m\u001b[0;34m)\u001b[0m\u001b[0;34m\u001b[0m\u001b[0;34m\u001b[0m\u001b[0m\n\u001b[0m\u001b[1;32m    223\u001b[0m                 \u001b[0mself\u001b[0m\u001b[0;34m.\u001b[0m\u001b[0mfuns\u001b[0m\u001b[0;34m[\u001b[0m\u001b[0mj\u001b[0m\u001b[0;34m]\u001b[0m\u001b[0;34m[\u001b[0m\u001b[0mi\u001b[0m\u001b[0;34m]\u001b[0m \u001b[0;34m=\u001b[0m \u001b[0mfun\u001b[0m\u001b[0;34m\u001b[0m\u001b[0;34m\u001b[0m\u001b[0m\n\u001b[1;32m    224\u001b[0m                 \u001b[0mself\u001b[0m\u001b[0;34m.\u001b[0m\u001b[0maffine\u001b[0m\u001b[0;34m.\u001b[0m\u001b[0mdata\u001b[0m\u001b[0;34m[\u001b[0m\u001b[0mj\u001b[0m\u001b[0;34m]\u001b[0m\u001b[0;34m[\u001b[0m\u001b[0mi\u001b[0m\u001b[0;34m]\u001b[0m \u001b[0;34m=\u001b[0m \u001b[0mparams\u001b[0m\u001b[0;34m\u001b[0m\u001b[0;34m\u001b[0m\u001b[0m\n",
            "\u001b[0;32m/usr/local/lib/python3.10/dist-packages/kan/utils.py\u001b[0m in \u001b[0;36mfit_params\u001b[0;34m(x, y, fun, a_range, b_range, grid_number, iteration, verbose, device)\u001b[0m\n\u001b[1;32m    218\u001b[0m     \u001b[0mr2_best\u001b[0m \u001b[0;34m=\u001b[0m \u001b[0mr2\u001b[0m\u001b[0;34m[\u001b[0m\u001b[0ma_id\u001b[0m\u001b[0;34m,\u001b[0m \u001b[0mb_id\u001b[0m\u001b[0;34m]\u001b[0m\u001b[0;34m\u001b[0m\u001b[0;34m\u001b[0m\u001b[0m\n\u001b[1;32m    219\u001b[0m \u001b[0;34m\u001b[0m\u001b[0m\n\u001b[0;32m--> 220\u001b[0;31m     \u001b[0;32mif\u001b[0m \u001b[0mverbose\u001b[0m \u001b[0;34m==\u001b[0m \u001b[0;32mTrue\u001b[0m\u001b[0;34m:\u001b[0m\u001b[0;34m\u001b[0m\u001b[0;34m\u001b[0m\u001b[0m\n\u001b[0m\u001b[1;32m    221\u001b[0m         \u001b[0mprint\u001b[0m\u001b[0;34m(\u001b[0m\u001b[0;34mf\"r2 is {r2_best}\"\u001b[0m\u001b[0;34m)\u001b[0m\u001b[0;34m\u001b[0m\u001b[0;34m\u001b[0m\u001b[0m\n\u001b[1;32m    222\u001b[0m         \u001b[0;32mif\u001b[0m \u001b[0mr2_best\u001b[0m \u001b[0;34m<\u001b[0m \u001b[0;36m0.9\u001b[0m\u001b[0;34m:\u001b[0m\u001b[0;34m\u001b[0m\u001b[0;34m\u001b[0m\u001b[0m\n",
            "\u001b[0;31mKeyboardInterrupt\u001b[0m: "
          ]
        }
      ]
    },
    {
      "cell_type": "code",
      "source": [
        "classes = list(set(sf_mat.reshape(-1,)))\n",
        "n_class = len(classes)\n",
        "\n",
        "colors = np.random.rand(n_class,4)\n",
        "dic = {}\n",
        "for i in range(n_class):\n",
        "    dic[classes[i]] = colors[i]\n",
        "\n",
        "\n",
        "img = np.zeros((num,num,4))\n",
        "for i in range(num):\n",
        "    for j in range(num):\n",
        "        img[i][j] = dic[sf_mat[i][j]]\n",
        "plt.imshow(img)"
      ],
      "metadata": {
        "colab": {
          "base_uri": "https://localhost:8080/",
          "height": 447
        },
        "id": "TUyM7F28XFdd",
        "outputId": "a606d367-829c-49d2-d4f5-e0c3bf16a284"
      },
      "execution_count": 31,
      "outputs": [
        {
          "output_type": "execute_result",
          "data": {
            "text/plain": [
              "<matplotlib.image.AxesImage at 0x7fef9aa54dc0>"
            ]
          },
          "metadata": {},
          "execution_count": 31
        },
        {
          "output_type": "display_data",
          "data": {
            "text/plain": [
              "<Figure size 640x480 with 1 Axes>"
            ],
            "image/png": "[encoded data removed]"
          },
          "metadata": {}
        }
      ]
    },
    {
      "cell_type": "code",
      "source": [],
      "metadata": {
        "id": "d6HJIHAZXR75"
      },
      "execution_count": null,
      "outputs": []
    }
  ]
}